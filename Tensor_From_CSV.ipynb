{
  "nbformat": 4,
  "nbformat_minor": 0,
  "metadata": {
    "colab": {
      "name": "Tensor_From_CSV.ipynb",
      "provenance": [],
      "authorship_tag": "ABX9TyMMwW/dv4I0ziZ65UvIyJHL",
      "include_colab_link": true
    },
    "kernelspec": {
      "name": "python3",
      "display_name": "Python 3"
    }
  },
  "cells": [
    {
      "cell_type": "markdown",
      "metadata": {
        "id": "view-in-github",
        "colab_type": "text"
      },
      "source": [
        "<a href=\"https://colab.research.google.com/github/DougJ/DougJ.github.io/blob/master/Tensor_From_CSV.ipynb\" target=\"_parent\"><img src=\"https://colab.research.google.com/assets/colab-badge.svg\" alt=\"Open In Colab\"/></a>"
      ]
    },
    {
      "cell_type": "markdown",
      "metadata": {
        "id": "CM7bxsXdeYHR",
        "colab_type": "text"
      },
      "source": [
        "## Create tensors from a CSV file. \n",
        "1) Load CSV file as dataframe  \n",
        "2) Create two unique data frames for single and multi class\n",
        "3) Export to two unique csv files  \n",
        "4) Create directories based on unique single class  \n",
        "5) Copy images from directories into single class target directory   \n",
        "6) Consider removing or compressing original image file  directories   \n",
        "7) Explore data, identify if need to adjust prior to tensors   \n",
        "8) Create tensors   "
      ]
    },
    {
      "cell_type": "markdown",
      "metadata": {
        "id": "UmWoN22Bu9Py",
        "colab_type": "text"
      },
      "source": [
        "### TO DISCUSS\n",
        "Covid images, or ignore for now?  \n",
        "Doing:\n",
        "   Cardiomegaly not Cardiomegaly  tensors? (meaning everything not Cariomegaly)  \n",
        "   Healthy not Healthy (meaning everything not Healthy)  \n",
        "If doing this, do we balance?  \n",
        "\n",
        "Or\n",
        "\n",
        "Doing:\n",
        "Tensor for each individual class?  \n",
        "If doing this, do we balance?  \n",
        "\n",
        "Do we train on imagenet\n",
        "Then train on healthy (lot of images, can create a bonus training set. Do we need to train on pnumothorax?)  \n",
        "Then train on unhealthy  \n",
        "\n",
        "Do we want to also pull from Stanford site?  "
      ]
    },
    {
      "cell_type": "code",
      "metadata": {
        "id": "PLy5VWe1BgGX",
        "colab_type": "code",
        "colab": {}
      },
      "source": [
        "import pandas as pd\n",
        "import os\n",
        "import shutil"
      ],
      "execution_count": 0,
      "outputs": []
    },
    {
      "cell_type": "markdown",
      "metadata": {
        "id": "8TTbINaxeiOf",
        "colab_type": "text"
      },
      "source": [
        "### 1) Load CSV file as dataframe  "
      ]
    },
    {
      "cell_type": "code",
      "metadata": {
        "id": "M-CMSkdtA8KH",
        "colab_type": "code",
        "outputId": "9e1a1492-e297-418a-8db8-c9cedbd9d852",
        "colab": {
          "base_uri": "https://localhost:8080/",
          "height": 34
        }
      },
      "source": [
        "from google.colab import drive\n",
        "drive.mount('/content/drive')"
      ],
      "execution_count": 281,
      "outputs": [
        {
          "output_type": "stream",
          "text": [
            "Drive already mounted at /content/drive; to attempt to forcibly remount, call drive.mount(\"/content/drive\", force_remount=True).\n"
          ],
          "name": "stdout"
        }
      ]
    },
    {
      "cell_type": "code",
      "metadata": {
        "id": "EBJVSzlNAAbe",
        "colab_type": "code",
        "outputId": "5c821641-0b3b-4fc3-9ddc-20392c34f296",
        "colab": {
          "base_uri": "https://localhost:8080/",
          "height": 34
        }
      },
      "source": [
        "cd /content/drive/'My Drive'/images/'NIH chest X ray images'/"
      ],
      "execution_count": 282,
      "outputs": [
        {
          "output_type": "stream",
          "text": [
            "/content/drive/.shortcut-targets-by-id/1iVV0f2kJC19GJZlSKvc9A6theRLdsc6-/COVID_19_project/NIH chest X ray images\n"
          ],
          "name": "stdout"
        }
      ]
    },
    {
      "cell_type": "code",
      "metadata": {
        "id": "ng1VMo9kWkTz",
        "colab_type": "code",
        "colab": {
          "base_uri": "https://localhost:8080/",
          "height": 34
        },
        "outputId": "3b0be96b-7bc5-4f12-e23d-491656d2d355"
      },
      "source": [
        "pwd"
      ],
      "execution_count": 283,
      "outputs": [
        {
          "output_type": "execute_result",
          "data": {
            "text/plain": [
              "'/content/drive/.shortcut-targets-by-id/1iVV0f2kJC19GJZlSKvc9A6theRLdsc6-/COVID_19_project/NIH chest X ray images'"
            ]
          },
          "metadata": {
            "tags": []
          },
          "execution_count": 283
        }
      ]
    },
    {
      "cell_type": "markdown",
      "metadata": {
        "id": "9vtdsMt6dPey",
        "colab_type": "text"
      },
      "source": [
        ""
      ]
    },
    {
      "cell_type": "code",
      "metadata": {
        "id": "Mv6PhfG1B760",
        "colab_type": "code",
        "outputId": "6a673c16-1687-4dbf-b73f-aff5a1d748a3",
        "colab": {
          "base_uri": "https://localhost:8080/",
          "height": 210
        }
      },
      "source": [
        "ls"
      ],
      "execution_count": 284,
      "outputs": [
        {
          "output_type": "stream",
          "text": [
            " \u001b[0m\u001b[01;34mAtelectasis\u001b[0m/                      \u001b[01;34mimages_001\u001b[0m/   \u001b[01;34mimages_012\u001b[0m/\n",
            " \u001b[01;34mCardiomegaly\u001b[0m/                     \u001b[01;34mimages_002\u001b[0m/   \u001b[01;34mInfiltration\u001b[0m/\n",
            " \u001b[01;34mConsolidation\u001b[0m/                    \u001b[01;34mimages_003\u001b[0m/   \u001b[01;34mMass\u001b[0m/\n",
            " Data_Entry_2017.csv               \u001b[01;34mimages_004\u001b[0m/   \u001b[01;34mNodule\u001b[0m/\n",
            " Data_Entry_2017_multi_class.csv   \u001b[01;34mimages_005\u001b[0m/  \u001b[01;34m'No Finding'\u001b[0m/\n",
            " Data_Entry_2017_one_class.csv     \u001b[01;34mimages_006\u001b[0m/   \u001b[01;34mPleural_Thickening\u001b[0m/\n",
            " \u001b[01;34mEdema\u001b[0m/                            \u001b[01;34mimages_007\u001b[0m/   \u001b[01;34mPneumonia\u001b[0m/\n",
            " \u001b[01;34mEffusion\u001b[0m/                         \u001b[01;34mimages_008\u001b[0m/   \u001b[01;34mPneumothorax\u001b[0m/\n",
            " \u001b[01;34mEmphysema\u001b[0m/                        \u001b[01;34mimages_009\u001b[0m/   README_CHESTXRAY.pdf\n",
            " \u001b[01;34mFibrosis\u001b[0m/                         \u001b[01;34mimages_010\u001b[0m/\n",
            " \u001b[01;34mHernia\u001b[0m/                           \u001b[01;34mimages_011\u001b[0m/\n"
          ],
          "name": "stdout"
        }
      ]
    },
    {
      "cell_type": "code",
      "metadata": {
        "id": "dBkW6TBQ_hB_",
        "colab_type": "code",
        "colab": {
          "base_uri": "https://localhost:8080/",
          "height": 236
        },
        "outputId": "be3b03ff-4e24-42b0-e999-43e389e177fa"
      },
      "source": [
        "df = pd.DataFrame()\n",
        "df = pd.read_csv('Data_Entry_2017.csv')\n",
        "df.head()"
      ],
      "execution_count": 285,
      "outputs": [
        {
          "output_type": "execute_result",
          "data": {
            "text/html": [
              "<div>\n",
              "<style scoped>\n",
              "    .dataframe tbody tr th:only-of-type {\n",
              "        vertical-align: middle;\n",
              "    }\n",
              "\n",
              "    .dataframe tbody tr th {\n",
              "        vertical-align: top;\n",
              "    }\n",
              "\n",
              "    .dataframe thead th {\n",
              "        text-align: right;\n",
              "    }\n",
              "</style>\n",
              "<table border=\"1\" class=\"dataframe\">\n",
              "  <thead>\n",
              "    <tr style=\"text-align: right;\">\n",
              "      <th></th>\n",
              "      <th>Image Index</th>\n",
              "      <th>Finding Labels</th>\n",
              "      <th>Follow-up #</th>\n",
              "      <th>Patient ID</th>\n",
              "      <th>Patient Age</th>\n",
              "      <th>Patient Gender</th>\n",
              "      <th>View Position</th>\n",
              "      <th>OriginalImage[Width</th>\n",
              "      <th>Height]</th>\n",
              "      <th>OriginalImagePixelSpacing[x</th>\n",
              "      <th>y]</th>\n",
              "      <th>Unnamed: 11</th>\n",
              "    </tr>\n",
              "  </thead>\n",
              "  <tbody>\n",
              "    <tr>\n",
              "      <th>0</th>\n",
              "      <td>00000001_000.png</td>\n",
              "      <td>Cardiomegaly</td>\n",
              "      <td>0</td>\n",
              "      <td>1</td>\n",
              "      <td>58</td>\n",
              "      <td>M</td>\n",
              "      <td>PA</td>\n",
              "      <td>2682</td>\n",
              "      <td>2749</td>\n",
              "      <td>0.143</td>\n",
              "      <td>0.143</td>\n",
              "      <td>NaN</td>\n",
              "    </tr>\n",
              "    <tr>\n",
              "      <th>1</th>\n",
              "      <td>00000001_001.png</td>\n",
              "      <td>Cardiomegaly|Emphysema</td>\n",
              "      <td>1</td>\n",
              "      <td>1</td>\n",
              "      <td>58</td>\n",
              "      <td>M</td>\n",
              "      <td>PA</td>\n",
              "      <td>2894</td>\n",
              "      <td>2729</td>\n",
              "      <td>0.143</td>\n",
              "      <td>0.143</td>\n",
              "      <td>NaN</td>\n",
              "    </tr>\n",
              "    <tr>\n",
              "      <th>2</th>\n",
              "      <td>00000001_002.png</td>\n",
              "      <td>Cardiomegaly|Effusion</td>\n",
              "      <td>2</td>\n",
              "      <td>1</td>\n",
              "      <td>58</td>\n",
              "      <td>M</td>\n",
              "      <td>PA</td>\n",
              "      <td>2500</td>\n",
              "      <td>2048</td>\n",
              "      <td>0.168</td>\n",
              "      <td>0.168</td>\n",
              "      <td>NaN</td>\n",
              "    </tr>\n",
              "    <tr>\n",
              "      <th>3</th>\n",
              "      <td>00000002_000.png</td>\n",
              "      <td>No Finding</td>\n",
              "      <td>0</td>\n",
              "      <td>2</td>\n",
              "      <td>81</td>\n",
              "      <td>M</td>\n",
              "      <td>PA</td>\n",
              "      <td>2500</td>\n",
              "      <td>2048</td>\n",
              "      <td>0.171</td>\n",
              "      <td>0.171</td>\n",
              "      <td>NaN</td>\n",
              "    </tr>\n",
              "    <tr>\n",
              "      <th>4</th>\n",
              "      <td>00000003_000.png</td>\n",
              "      <td>Hernia</td>\n",
              "      <td>0</td>\n",
              "      <td>3</td>\n",
              "      <td>81</td>\n",
              "      <td>F</td>\n",
              "      <td>PA</td>\n",
              "      <td>2582</td>\n",
              "      <td>2991</td>\n",
              "      <td>0.143</td>\n",
              "      <td>0.143</td>\n",
              "      <td>NaN</td>\n",
              "    </tr>\n",
              "  </tbody>\n",
              "</table>\n",
              "</div>"
            ],
            "text/plain": [
              "        Image Index          Finding Labels  ...     y]  Unnamed: 11\n",
              "0  00000001_000.png            Cardiomegaly  ...  0.143          NaN\n",
              "1  00000001_001.png  Cardiomegaly|Emphysema  ...  0.143          NaN\n",
              "2  00000001_002.png   Cardiomegaly|Effusion  ...  0.168          NaN\n",
              "3  00000002_000.png              No Finding  ...  0.171          NaN\n",
              "4  00000003_000.png                  Hernia  ...  0.143          NaN\n",
              "\n",
              "[5 rows x 12 columns]"
            ]
          },
          "metadata": {
            "tags": []
          },
          "execution_count": 285
        }
      ]
    },
    {
      "cell_type": "markdown",
      "metadata": {
        "id": "mOG4q3cJemoI",
        "colab_type": "text"
      },
      "source": [
        "### 2) Create two unique data frames for single and multi class"
      ]
    },
    {
      "cell_type": "code",
      "metadata": {
        "id": "0oIotWbjDKqO",
        "colab_type": "code",
        "colab": {}
      },
      "source": [
        "df_pipe = pd.DataFrame(columns=df.columns)\n",
        "df_noPipe = pd.DataFrame(columns=df.columns)"
      ],
      "execution_count": 0,
      "outputs": []
    },
    {
      "cell_type": "code",
      "metadata": {
        "id": "kZ6IZQ97Qaq0",
        "colab_type": "code",
        "colab": {}
      },
      "source": [
        "cols_to_copy = ['Image Index', 'Finding Labels', 'View Position']\n",
        "\n",
        "# SPECIFIC COLUMNS\n",
        "#df_one_class = df.loc[~df['Finding Labels'].str.contains(r'\\|'), cols_to_copy].copy()\n",
        "#df_multi_class = df.loc[df['Finding Labels'].str.contains(r'\\|'), cols_to_copy].copy()\n",
        "\n",
        "# ALL COLUMNS\n",
        "df_one_class = df.loc[~df['Finding Labels'].str.contains(r'\\|'), :].copy()\n",
        "df_multi_class = df.loc[df['Finding Labels'].str.contains(r'\\|'), :].copy()"
      ],
      "execution_count": 0,
      "outputs": []
    },
    {
      "cell_type": "code",
      "metadata": {
        "id": "MQzc1h1g3oZa",
        "colab_type": "code",
        "colab": {}
      },
      "source": [
        ""
      ],
      "execution_count": 0,
      "outputs": []
    },
    {
      "cell_type": "code",
      "metadata": {
        "id": "xfC8MzthvnQA",
        "colab_type": "code",
        "outputId": "71b35b3a-a796-4523-da67-4cb8c8e4d8f2",
        "colab": {
          "base_uri": "https://localhost:8080/",
          "height": 311
        }
      },
      "source": [
        "df_one_class = positive_df.loc[(positive_df['view']== 'PA')|\n",
        "                                 (positive_df['view']== 'AP')|\n",
        "                                 (positive_df['view']== 'AP Supine'), :]\n",
        "print(pos_good_views.shape)\n",
        "pos_good_views.head()"
      ],
      "execution_count": 0,
      "outputs": [
        {
          "output_type": "stream",
          "text": [
            "(226, 6)\n"
          ],
          "name": "stdout"
        },
        {
          "output_type": "execute_result",
          "data": {
            "text/html": [
              "<div>\n",
              "<style scoped>\n",
              "    .dataframe tbody tr th:only-of-type {\n",
              "        vertical-align: middle;\n",
              "    }\n",
              "\n",
              "    .dataframe tbody tr th {\n",
              "        vertical-align: top;\n",
              "    }\n",
              "\n",
              "    .dataframe thead th {\n",
              "        text-align: right;\n",
              "    }\n",
              "</style>\n",
              "<table border=\"1\" class=\"dataframe\">\n",
              "  <thead>\n",
              "    <tr style=\"text-align: right;\">\n",
              "      <th></th>\n",
              "      <th>filename</th>\n",
              "      <th>patientid</th>\n",
              "      <th>finding</th>\n",
              "      <th>view</th>\n",
              "      <th>clinical_notes</th>\n",
              "      <th>url</th>\n",
              "    </tr>\n",
              "  </thead>\n",
              "  <tbody>\n",
              "    <tr>\n",
              "      <th>0</th>\n",
              "      <td>auntminnie-a-2020_01_28_23_51_6665_2020_01_28_...</td>\n",
              "      <td>2</td>\n",
              "      <td>COVID-19</td>\n",
              "      <td>PA</td>\n",
              "      <td>infiltrate in the upper lobe of the left lung</td>\n",
              "      <td>https://www.nejm.org/doi/full/10.1056/NEJMc200...</td>\n",
              "    </tr>\n",
              "    <tr>\n",
              "      <th>1</th>\n",
              "      <td>auntminnie-b-2020_01_28_23_51_6665_2020_01_28_...</td>\n",
              "      <td>2</td>\n",
              "      <td>COVID-19</td>\n",
              "      <td>PA</td>\n",
              "      <td>progressive infiltrate and consolidation</td>\n",
              "      <td>https://www.nejm.org/doi/full/10.1056/NEJMc200...</td>\n",
              "    </tr>\n",
              "    <tr>\n",
              "      <th>2</th>\n",
              "      <td>auntminnie-c-2020_01_28_23_51_6665_2020_01_28_...</td>\n",
              "      <td>2</td>\n",
              "      <td>COVID-19</td>\n",
              "      <td>PA</td>\n",
              "      <td>progressive infiltrate and consolidation</td>\n",
              "      <td>https://www.nejm.org/doi/full/10.1056/NEJMc200...</td>\n",
              "    </tr>\n",
              "    <tr>\n",
              "      <th>3</th>\n",
              "      <td>auntminnie-d-2020_01_28_23_51_6665_2020_01_28_...</td>\n",
              "      <td>2</td>\n",
              "      <td>COVID-19</td>\n",
              "      <td>PA</td>\n",
              "      <td>progressive infiltrate and consolidation</td>\n",
              "      <td>https://www.nejm.org/doi/full/10.1056/NEJMc200...</td>\n",
              "    </tr>\n",
              "    <tr>\n",
              "      <th>4</th>\n",
              "      <td>nejmc2001573_f1a.jpeg</td>\n",
              "      <td>4</td>\n",
              "      <td>COVID-19</td>\n",
              "      <td>PA</td>\n",
              "      <td>diffuse infiltrates in the bilateral lower lungs</td>\n",
              "      <td>https://www.nejm.org/doi/full/10.1056/NEJMc200...</td>\n",
              "    </tr>\n",
              "  </tbody>\n",
              "</table>\n",
              "</div>"
            ],
            "text/plain": [
              "                                            filename  ...                                                url\n",
              "0  auntminnie-a-2020_01_28_23_51_6665_2020_01_28_...  ...  https://www.nejm.org/doi/full/10.1056/NEJMc200...\n",
              "1  auntminnie-b-2020_01_28_23_51_6665_2020_01_28_...  ...  https://www.nejm.org/doi/full/10.1056/NEJMc200...\n",
              "2  auntminnie-c-2020_01_28_23_51_6665_2020_01_28_...  ...  https://www.nejm.org/doi/full/10.1056/NEJMc200...\n",
              "3  auntminnie-d-2020_01_28_23_51_6665_2020_01_28_...  ...  https://www.nejm.org/doi/full/10.1056/NEJMc200...\n",
              "4                              nejmc2001573_f1a.jpeg  ...  https://www.nejm.org/doi/full/10.1056/NEJMc200...\n",
              "\n",
              "[5 rows x 6 columns]"
            ]
          },
          "metadata": {
            "tags": []
          },
          "execution_count": 12
        }
      ]
    },
    {
      "cell_type": "markdown",
      "metadata": {
        "id": "oR19894cfLMJ",
        "colab_type": "text"
      },
      "source": [
        "### 3) Export to two unique csv files "
      ]
    },
    {
      "cell_type": "code",
      "metadata": {
        "id": "9hXYHG9DDWxB",
        "colab_type": "code",
        "colab": {}
      },
      "source": [
        "df_one_class.to_csv('Data_Entry_2017_one_class.csv', sep='\\t', encoding='utf-8')"
      ],
      "execution_count": 0,
      "outputs": []
    },
    {
      "cell_type": "code",
      "metadata": {
        "id": "S6hvytLkX5H_",
        "colab_type": "code",
        "colab": {}
      },
      "source": [
        "df_multi_class.to_csv('Data_Entry_2017_multi_class.csv', sep='\\t', encoding='utf-8')"
      ],
      "execution_count": 0,
      "outputs": []
    },
    {
      "cell_type": "markdown",
      "metadata": {
        "id": "8fdUdGm1fIPB",
        "colab_type": "text"
      },
      "source": [
        "### 4) Create directories based on unique single class  \n"
      ]
    },
    {
      "cell_type": "code",
      "metadata": {
        "id": "VPkjMfVTS88G",
        "colab_type": "code",
        "colab": {
          "base_uri": "https://localhost:8080/",
          "height": 115
        },
        "outputId": "8291aa41-23bd-4836-c095-96aacb9a3b4b"
      },
      "source": [
        "df_multi_class.head(1)"
      ],
      "execution_count": 312,
      "outputs": [
        {
          "output_type": "execute_result",
          "data": {
            "text/html": [
              "<div>\n",
              "<style scoped>\n",
              "    .dataframe tbody tr th:only-of-type {\n",
              "        vertical-align: middle;\n",
              "    }\n",
              "\n",
              "    .dataframe tbody tr th {\n",
              "        vertical-align: top;\n",
              "    }\n",
              "\n",
              "    .dataframe thead th {\n",
              "        text-align: right;\n",
              "    }\n",
              "</style>\n",
              "<table border=\"1\" class=\"dataframe\">\n",
              "  <thead>\n",
              "    <tr style=\"text-align: right;\">\n",
              "      <th></th>\n",
              "      <th>Image Index</th>\n",
              "      <th>Finding Labels</th>\n",
              "      <th>Follow-up #</th>\n",
              "      <th>Patient ID</th>\n",
              "      <th>Patient Age</th>\n",
              "      <th>Patient Gender</th>\n",
              "      <th>View Position</th>\n",
              "      <th>OriginalImage[Width</th>\n",
              "      <th>Height]</th>\n",
              "      <th>OriginalImagePixelSpacing[x</th>\n",
              "      <th>y]</th>\n",
              "      <th>Unnamed: 11</th>\n",
              "    </tr>\n",
              "  </thead>\n",
              "  <tbody>\n",
              "    <tr>\n",
              "      <th>1</th>\n",
              "      <td>00000001_001.png</td>\n",
              "      <td>Cardiomegaly|Emphysema</td>\n",
              "      <td>1</td>\n",
              "      <td>1</td>\n",
              "      <td>58</td>\n",
              "      <td>M</td>\n",
              "      <td>PA</td>\n",
              "      <td>2894</td>\n",
              "      <td>2729</td>\n",
              "      <td>0.143</td>\n",
              "      <td>0.143</td>\n",
              "      <td>NaN</td>\n",
              "    </tr>\n",
              "  </tbody>\n",
              "</table>\n",
              "</div>"
            ],
            "text/plain": [
              "        Image Index          Finding Labels  ...     y]  Unnamed: 11\n",
              "1  00000001_001.png  Cardiomegaly|Emphysema  ...  0.143          NaN\n",
              "\n",
              "[1 rows x 12 columns]"
            ]
          },
          "metadata": {
            "tags": []
          },
          "execution_count": 312
        }
      ]
    },
    {
      "cell_type": "code",
      "metadata": {
        "id": "PhTovCslS9AL",
        "colab_type": "code",
        "colab": {
          "base_uri": "https://localhost:8080/",
          "height": 115
        },
        "outputId": "ebfb6208-5716-45aa-b3e7-7287e86cf7e3"
      },
      "source": [
        "df_one_class.head(1)"
      ],
      "execution_count": 313,
      "outputs": [
        {
          "output_type": "execute_result",
          "data": {
            "text/html": [
              "<div>\n",
              "<style scoped>\n",
              "    .dataframe tbody tr th:only-of-type {\n",
              "        vertical-align: middle;\n",
              "    }\n",
              "\n",
              "    .dataframe tbody tr th {\n",
              "        vertical-align: top;\n",
              "    }\n",
              "\n",
              "    .dataframe thead th {\n",
              "        text-align: right;\n",
              "    }\n",
              "</style>\n",
              "<table border=\"1\" class=\"dataframe\">\n",
              "  <thead>\n",
              "    <tr style=\"text-align: right;\">\n",
              "      <th></th>\n",
              "      <th>Image Index</th>\n",
              "      <th>Finding Labels</th>\n",
              "      <th>Follow-up #</th>\n",
              "      <th>Patient ID</th>\n",
              "      <th>Patient Age</th>\n",
              "      <th>Patient Gender</th>\n",
              "      <th>View Position</th>\n",
              "      <th>OriginalImage[Width</th>\n",
              "      <th>Height]</th>\n",
              "      <th>OriginalImagePixelSpacing[x</th>\n",
              "      <th>y]</th>\n",
              "      <th>Unnamed: 11</th>\n",
              "    </tr>\n",
              "  </thead>\n",
              "  <tbody>\n",
              "    <tr>\n",
              "      <th>0</th>\n",
              "      <td>00000001_000.png</td>\n",
              "      <td>Cardiomegaly</td>\n",
              "      <td>0</td>\n",
              "      <td>1</td>\n",
              "      <td>58</td>\n",
              "      <td>M</td>\n",
              "      <td>PA</td>\n",
              "      <td>2682</td>\n",
              "      <td>2749</td>\n",
              "      <td>0.143</td>\n",
              "      <td>0.143</td>\n",
              "      <td>NaN</td>\n",
              "    </tr>\n",
              "  </tbody>\n",
              "</table>\n",
              "</div>"
            ],
            "text/plain": [
              "        Image Index Finding Labels  ...     y]  Unnamed: 11\n",
              "0  00000001_000.png   Cardiomegaly  ...  0.143          NaN\n",
              "\n",
              "[1 rows x 12 columns]"
            ]
          },
          "metadata": {
            "tags": []
          },
          "execution_count": 313
        }
      ]
    },
    {
      "cell_type": "code",
      "metadata": {
        "id": "13dS0M97Yydl",
        "colab_type": "code",
        "colab": {
          "base_uri": "https://localhost:8080/",
          "height": 411
        },
        "outputId": "c45b2558-3fb0-4325-e298-498fd87f8f61"
      },
      "source": [
        "df_one_class.describe(include='all').T"
      ],
      "execution_count": 318,
      "outputs": [
        {
          "output_type": "execute_result",
          "data": {
            "text/html": [
              "<div>\n",
              "<style scoped>\n",
              "    .dataframe tbody tr th:only-of-type {\n",
              "        vertical-align: middle;\n",
              "    }\n",
              "\n",
              "    .dataframe tbody tr th {\n",
              "        vertical-align: top;\n",
              "    }\n",
              "\n",
              "    .dataframe thead th {\n",
              "        text-align: right;\n",
              "    }\n",
              "</style>\n",
              "<table border=\"1\" class=\"dataframe\">\n",
              "  <thead>\n",
              "    <tr style=\"text-align: right;\">\n",
              "      <th></th>\n",
              "      <th>count</th>\n",
              "      <th>unique</th>\n",
              "      <th>top</th>\n",
              "      <th>freq</th>\n",
              "      <th>mean</th>\n",
              "      <th>std</th>\n",
              "      <th>min</th>\n",
              "      <th>25%</th>\n",
              "      <th>50%</th>\n",
              "      <th>75%</th>\n",
              "      <th>max</th>\n",
              "    </tr>\n",
              "  </thead>\n",
              "  <tbody>\n",
              "    <tr>\n",
              "      <th>Image Index</th>\n",
              "      <td>91324</td>\n",
              "      <td>91324</td>\n",
              "      <td>00022481_006.png</td>\n",
              "      <td>1</td>\n",
              "      <td>NaN</td>\n",
              "      <td>NaN</td>\n",
              "      <td>NaN</td>\n",
              "      <td>NaN</td>\n",
              "      <td>NaN</td>\n",
              "      <td>NaN</td>\n",
              "      <td>NaN</td>\n",
              "    </tr>\n",
              "    <tr>\n",
              "      <th>Finding Labels</th>\n",
              "      <td>91324</td>\n",
              "      <td>15</td>\n",
              "      <td>No Finding</td>\n",
              "      <td>60361</td>\n",
              "      <td>NaN</td>\n",
              "      <td>NaN</td>\n",
              "      <td>NaN</td>\n",
              "      <td>NaN</td>\n",
              "      <td>NaN</td>\n",
              "      <td>NaN</td>\n",
              "      <td>NaN</td>\n",
              "    </tr>\n",
              "    <tr>\n",
              "      <th>Follow-up #</th>\n",
              "      <td>91324</td>\n",
              "      <td>NaN</td>\n",
              "      <td>NaN</td>\n",
              "      <td>NaN</td>\n",
              "      <td>7.46394</td>\n",
              "      <td>14.2027</td>\n",
              "      <td>0</td>\n",
              "      <td>0</td>\n",
              "      <td>2</td>\n",
              "      <td>8</td>\n",
              "      <td>182</td>\n",
              "    </tr>\n",
              "    <tr>\n",
              "      <th>Patient ID</th>\n",
              "      <td>91324</td>\n",
              "      <td>NaN</td>\n",
              "      <td>NaN</td>\n",
              "      <td>NaN</td>\n",
              "      <td>14181.9</td>\n",
              "      <td>8449.72</td>\n",
              "      <td>1</td>\n",
              "      <td>7034</td>\n",
              "      <td>13729.5</td>\n",
              "      <td>20624</td>\n",
              "      <td>30805</td>\n",
              "    </tr>\n",
              "    <tr>\n",
              "      <th>Patient Age</th>\n",
              "      <td>91324</td>\n",
              "      <td>NaN</td>\n",
              "      <td>NaN</td>\n",
              "      <td>NaN</td>\n",
              "      <td>46.5221</td>\n",
              "      <td>16.7689</td>\n",
              "      <td>1</td>\n",
              "      <td>34</td>\n",
              "      <td>48</td>\n",
              "      <td>59</td>\n",
              "      <td>414</td>\n",
              "    </tr>\n",
              "    <tr>\n",
              "      <th>Patient Gender</th>\n",
              "      <td>91324</td>\n",
              "      <td>2</td>\n",
              "      <td>M</td>\n",
              "      <td>51343</td>\n",
              "      <td>NaN</td>\n",
              "      <td>NaN</td>\n",
              "      <td>NaN</td>\n",
              "      <td>NaN</td>\n",
              "      <td>NaN</td>\n",
              "      <td>NaN</td>\n",
              "      <td>NaN</td>\n",
              "    </tr>\n",
              "    <tr>\n",
              "      <th>View Position</th>\n",
              "      <td>91324</td>\n",
              "      <td>2</td>\n",
              "      <td>PA</td>\n",
              "      <td>57130</td>\n",
              "      <td>NaN</td>\n",
              "      <td>NaN</td>\n",
              "      <td>NaN</td>\n",
              "      <td>NaN</td>\n",
              "      <td>NaN</td>\n",
              "      <td>NaN</td>\n",
              "      <td>NaN</td>\n",
              "    </tr>\n",
              "    <tr>\n",
              "      <th>OriginalImage[Width</th>\n",
              "      <td>91324</td>\n",
              "      <td>NaN</td>\n",
              "      <td>NaN</td>\n",
              "      <td>NaN</td>\n",
              "      <td>2638.68</td>\n",
              "      <td>343.052</td>\n",
              "      <td>1143</td>\n",
              "      <td>2500</td>\n",
              "      <td>2504</td>\n",
              "      <td>2992</td>\n",
              "      <td>3827</td>\n",
              "    </tr>\n",
              "    <tr>\n",
              "      <th>Height]</th>\n",
              "      <td>91324</td>\n",
              "      <td>NaN</td>\n",
              "      <td>NaN</td>\n",
              "      <td>NaN</td>\n",
              "      <td>2490.89</td>\n",
              "      <td>403.309</td>\n",
              "      <td>966</td>\n",
              "      <td>2048</td>\n",
              "      <td>2541</td>\n",
              "      <td>2991</td>\n",
              "      <td>4715</td>\n",
              "    </tr>\n",
              "    <tr>\n",
              "      <th>OriginalImagePixelSpacing[x</th>\n",
              "      <td>91324</td>\n",
              "      <td>NaN</td>\n",
              "      <td>NaN</td>\n",
              "      <td>NaN</td>\n",
              "      <td>0.155802</td>\n",
              "      <td>0.0162296</td>\n",
              "      <td>0.115</td>\n",
              "      <td>0.143</td>\n",
              "      <td>0.143</td>\n",
              "      <td>0.168</td>\n",
              "      <td>0.1988</td>\n",
              "    </tr>\n",
              "    <tr>\n",
              "      <th>y]</th>\n",
              "      <td>91324</td>\n",
              "      <td>NaN</td>\n",
              "      <td>NaN</td>\n",
              "      <td>NaN</td>\n",
              "      <td>0.155802</td>\n",
              "      <td>0.0162296</td>\n",
              "      <td>0.115</td>\n",
              "      <td>0.143</td>\n",
              "      <td>0.143</td>\n",
              "      <td>0.168</td>\n",
              "      <td>0.1988</td>\n",
              "    </tr>\n",
              "    <tr>\n",
              "      <th>Unnamed: 11</th>\n",
              "      <td>0</td>\n",
              "      <td>NaN</td>\n",
              "      <td>NaN</td>\n",
              "      <td>NaN</td>\n",
              "      <td>NaN</td>\n",
              "      <td>NaN</td>\n",
              "      <td>NaN</td>\n",
              "      <td>NaN</td>\n",
              "      <td>NaN</td>\n",
              "      <td>NaN</td>\n",
              "      <td>NaN</td>\n",
              "    </tr>\n",
              "  </tbody>\n",
              "</table>\n",
              "</div>"
            ],
            "text/plain": [
              "                             count unique  ...    75%     max\n",
              "Image Index                  91324  91324  ...    NaN     NaN\n",
              "Finding Labels               91324     15  ...    NaN     NaN\n",
              "Follow-up #                  91324    NaN  ...      8     182\n",
              "Patient ID                   91324    NaN  ...  20624   30805\n",
              "Patient Age                  91324    NaN  ...     59     414\n",
              "Patient Gender               91324      2  ...    NaN     NaN\n",
              "View Position                91324      2  ...    NaN     NaN\n",
              "OriginalImage[Width          91324    NaN  ...   2992    3827\n",
              "Height]                      91324    NaN  ...   2991    4715\n",
              "OriginalImagePixelSpacing[x  91324    NaN  ...  0.168  0.1988\n",
              "y]                           91324    NaN  ...  0.168  0.1988\n",
              "Unnamed: 11                      0    NaN  ...    NaN     NaN\n",
              "\n",
              "[12 rows x 11 columns]"
            ]
          },
          "metadata": {
            "tags": []
          },
          "execution_count": 318
        }
      ]
    },
    {
      "cell_type": "code",
      "metadata": {
        "id": "nHGHDnSrw8sf",
        "colab_type": "code",
        "colab": {
          "base_uri": "https://localhost:8080/",
          "height": 307
        },
        "outputId": "3991cfcd-7eca-4754-ac3c-e0b29d9a8d5d"
      },
      "source": [
        "df_multi_class.describe()"
      ],
      "execution_count": 315,
      "outputs": [
        {
          "output_type": "execute_result",
          "data": {
            "text/html": [
              "<div>\n",
              "<style scoped>\n",
              "    .dataframe tbody tr th:only-of-type {\n",
              "        vertical-align: middle;\n",
              "    }\n",
              "\n",
              "    .dataframe tbody tr th {\n",
              "        vertical-align: top;\n",
              "    }\n",
              "\n",
              "    .dataframe thead th {\n",
              "        text-align: right;\n",
              "    }\n",
              "</style>\n",
              "<table border=\"1\" class=\"dataframe\">\n",
              "  <thead>\n",
              "    <tr style=\"text-align: right;\">\n",
              "      <th></th>\n",
              "      <th>Follow-up #</th>\n",
              "      <th>Patient ID</th>\n",
              "      <th>Patient Age</th>\n",
              "      <th>OriginalImage[Width</th>\n",
              "      <th>Height]</th>\n",
              "      <th>OriginalImagePixelSpacing[x</th>\n",
              "      <th>y]</th>\n",
              "      <th>Unnamed: 11</th>\n",
              "    </tr>\n",
              "  </thead>\n",
              "  <tbody>\n",
              "    <tr>\n",
              "      <th>count</th>\n",
              "      <td>20796.000000</td>\n",
              "      <td>20796.000000</td>\n",
              "      <td>20796.000000</td>\n",
              "      <td>20796.000000</td>\n",
              "      <td>20796.000000</td>\n",
              "      <td>20796.000000</td>\n",
              "      <td>20796.000000</td>\n",
              "      <td>0.0</td>\n",
              "    </tr>\n",
              "    <tr>\n",
              "      <th>mean</th>\n",
              "      <td>13.447394</td>\n",
              "      <td>15068.495672</td>\n",
              "      <td>48.567609</td>\n",
              "      <td>2678.590787</td>\n",
              "      <td>2466.900414</td>\n",
              "      <td>0.154976</td>\n",
              "      <td>0.154976</td>\n",
              "      <td>NaN</td>\n",
              "    </tr>\n",
              "    <tr>\n",
              "      <th>std</th>\n",
              "      <td>19.097351</td>\n",
              "      <td>8160.584950</td>\n",
              "      <td>17.049257</td>\n",
              "      <td>331.258544</td>\n",
              "      <td>391.590376</td>\n",
              "      <td>0.015910</td>\n",
              "      <td>0.015910</td>\n",
              "      <td>NaN</td>\n",
              "    </tr>\n",
              "    <tr>\n",
              "      <th>min</th>\n",
              "      <td>0.000000</td>\n",
              "      <td>1.000000</td>\n",
              "      <td>1.000000</td>\n",
              "      <td>1215.000000</td>\n",
              "      <td>1077.000000</td>\n",
              "      <td>0.115000</td>\n",
              "      <td>0.115000</td>\n",
              "      <td>NaN</td>\n",
              "    </tr>\n",
              "    <tr>\n",
              "      <th>25%</th>\n",
              "      <td>2.000000</td>\n",
              "      <td>8841.000000</td>\n",
              "      <td>36.000000</td>\n",
              "      <td>2500.000000</td>\n",
              "      <td>2048.000000</td>\n",
              "      <td>0.143000</td>\n",
              "      <td>0.143000</td>\n",
              "      <td>NaN</td>\n",
              "    </tr>\n",
              "    <tr>\n",
              "      <th>50%</th>\n",
              "      <td>7.000000</td>\n",
              "      <td>14888.000000</td>\n",
              "      <td>51.000000</td>\n",
              "      <td>2544.000000</td>\n",
              "      <td>2544.000000</td>\n",
              "      <td>0.143000</td>\n",
              "      <td>0.143000</td>\n",
              "      <td>NaN</td>\n",
              "    </tr>\n",
              "    <tr>\n",
              "      <th>75%</th>\n",
              "      <td>17.000000</td>\n",
              "      <td>20852.000000</td>\n",
              "      <td>61.000000</td>\n",
              "      <td>2992.000000</td>\n",
              "      <td>2991.000000</td>\n",
              "      <td>0.168000</td>\n",
              "      <td>0.168000</td>\n",
              "      <td>NaN</td>\n",
              "    </tr>\n",
              "    <tr>\n",
              "      <th>max</th>\n",
              "      <td>183.000000</td>\n",
              "      <td>30801.000000</td>\n",
              "      <td>412.000000</td>\n",
              "      <td>3550.000000</td>\n",
              "      <td>3166.000000</td>\n",
              "      <td>0.198800</td>\n",
              "      <td>0.198800</td>\n",
              "      <td>NaN</td>\n",
              "    </tr>\n",
              "  </tbody>\n",
              "</table>\n",
              "</div>"
            ],
            "text/plain": [
              "        Follow-up #    Patient ID  ...            y]  Unnamed: 11\n",
              "count  20796.000000  20796.000000  ...  20796.000000          0.0\n",
              "mean      13.447394  15068.495672  ...      0.154976          NaN\n",
              "std       19.097351   8160.584950  ...      0.015910          NaN\n",
              "min        0.000000      1.000000  ...      0.115000          NaN\n",
              "25%        2.000000   8841.000000  ...      0.143000          NaN\n",
              "50%        7.000000  14888.000000  ...      0.143000          NaN\n",
              "75%       17.000000  20852.000000  ...      0.168000          NaN\n",
              "max      183.000000  30801.000000  ...      0.198800          NaN\n",
              "\n",
              "[8 rows x 8 columns]"
            ]
          },
          "metadata": {
            "tags": []
          },
          "execution_count": 315
        }
      ]
    },
    {
      "cell_type": "code",
      "metadata": {
        "id": "FlmFuYEjZTDF",
        "colab_type": "code",
        "colab": {
          "base_uri": "https://localhost:8080/",
          "height": 298
        },
        "outputId": "a7ad582c-dd99-4f6a-a739-da7218dc21f6"
      },
      "source": [
        "df_one_class['Finding Labels'].value_counts()"
      ],
      "execution_count": 294,
      "outputs": [
        {
          "output_type": "execute_result",
          "data": {
            "text/plain": [
              "No Finding            60361\n",
              "Infiltration           9547\n",
              "Atelectasis            4215\n",
              "Effusion               3955\n",
              "Nodule                 2705\n",
              "Pneumothorax           2194\n",
              "Mass                   2139\n",
              "Consolidation          1310\n",
              "Pleural_Thickening     1126\n",
              "Cardiomegaly           1093\n",
              "Emphysema               892\n",
              "Fibrosis                727\n",
              "Edema                   628\n",
              "Pneumonia               322\n",
              "Hernia                  110\n",
              "Name: Finding Labels, dtype: int64"
            ]
          },
          "metadata": {
            "tags": []
          },
          "execution_count": 294
        }
      ]
    },
    {
      "cell_type": "code",
      "metadata": {
        "id": "Hib25bHc4gYa",
        "colab_type": "code",
        "colab": {
          "base_uri": "https://localhost:8080/",
          "height": 70
        },
        "outputId": "f682ee12-3ac7-49de-f12f-18263884cf33"
      },
      "source": [
        "df_one_class['View Position'].value_counts()"
      ],
      "execution_count": 319,
      "outputs": [
        {
          "output_type": "execute_result",
          "data": {
            "text/plain": [
              "PA    57130\n",
              "AP    34194\n",
              "Name: View Position, dtype: int64"
            ]
          },
          "metadata": {
            "tags": []
          },
          "execution_count": 319
        }
      ]
    },
    {
      "cell_type": "code",
      "metadata": {
        "id": "MPC_3HLjxIKw",
        "colab_type": "code",
        "colab": {
          "base_uri": "https://localhost:8080/",
          "height": 263
        },
        "outputId": "f80fc9da-a853-4cd9-b0b9-07b3552d7d1a"
      },
      "source": [
        "print(\"# unique = {}\\n\".format(df_multi_class['Finding Labels'].nunique()))\n",
        "df_multi_class['Finding Labels'].value_counts()"
      ],
      "execution_count": 295,
      "outputs": [
        {
          "output_type": "stream",
          "text": [
            "# unique = 821\n",
            "\n"
          ],
          "name": "stdout"
        },
        {
          "output_type": "execute_result",
          "data": {
            "text/plain": [
              "Effusion|Infiltration                                   1603\n",
              "Atelectasis|Infiltration                                1350\n",
              "Atelectasis|Effusion                                    1165\n",
              "Infiltration|Nodule                                      829\n",
              "Atelectasis|Effusion|Infiltration                        737\n",
              "                                                        ... \n",
              "Atelectasis|Consolidation|Nodule|Pneumonia                 1\n",
              "Fibrosis|Hernia|Infiltration                               1\n",
              "Edema|Infiltration|Pneumothorax                            1\n",
              "Atelectasis|Fibrosis|Infiltration|Pleural_Thickening       1\n",
              "Edema|Pneumonia|Infiltration                               1\n",
              "Name: Finding Labels, Length: 821, dtype: int64"
            ]
          },
          "metadata": {
            "tags": []
          },
          "execution_count": 295
        }
      ]
    },
    {
      "cell_type": "markdown",
      "metadata": {
        "id": "SchBCb4815dd",
        "colab_type": "text"
      },
      "source": [
        "\n"
      ]
    },
    {
      "cell_type": "code",
      "metadata": {
        "id": "s0DZj159xZZV",
        "colab_type": "code",
        "colab": {
          "base_uri": "https://localhost:8080/",
          "height": 105
        },
        "outputId": "ecfb9450-6ffb-430b-8daa-f274c22f209c"
      },
      "source": [
        "# SPLIT EXAMPLE FOR 'Finding Labels' BASED ON '|' SO CAN USE DOWN THE ROAD \n",
        "count = 0\n",
        "for i, row in df_multi_class.iterrows():\n",
        "  if count > 4:\n",
        "    break\n",
        "  str = row['Finding Labels']\n",
        "  split_str = str.split('|')\n",
        "  print(split_str)\n",
        "  count+=1"
      ],
      "execution_count": 309,
      "outputs": [
        {
          "output_type": "stream",
          "text": [
            "['Cardiomegaly', 'Emphysema']\n",
            "['Cardiomegaly', 'Effusion']\n",
            "['Hernia', 'Infiltration']\n",
            "['Mass', 'Nodule']\n",
            "['Effusion', 'Infiltration']\n"
          ],
          "name": "stdout"
        }
      ]
    },
    {
      "cell_type": "code",
      "metadata": {
        "id": "sJko7F9lZqdE",
        "colab_type": "code",
        "colab": {
          "base_uri": "https://localhost:8080/",
          "height": 280
        },
        "outputId": "5a9cb7ed-0908-4c00-bb91-e010d7787b85"
      },
      "source": [
        "# LOOK AT LABELS FOR IMAGES WITH JUST ONE CLASS IN 'Finding Labels'\n",
        "class_list = df_one_class['Finding Labels'].unique().tolist()\n",
        "class_list"
      ],
      "execution_count": 310,
      "outputs": [
        {
          "output_type": "execute_result",
          "data": {
            "text/plain": [
              "['Cardiomegaly',\n",
              " 'No Finding',\n",
              " 'Hernia',\n",
              " 'Infiltration',\n",
              " 'Nodule',\n",
              " 'Emphysema',\n",
              " 'Effusion',\n",
              " 'Atelectasis',\n",
              " 'Pleural_Thickening',\n",
              " 'Pneumothorax',\n",
              " 'Mass',\n",
              " 'Fibrosis',\n",
              " 'Consolidation',\n",
              " 'Edema',\n",
              " 'Pneumonia']"
            ]
          },
          "metadata": {
            "tags": []
          },
          "execution_count": 310
        }
      ]
    },
    {
      "cell_type": "code",
      "metadata": {
        "id": "VJaPTMTtamT_",
        "colab_type": "code",
        "colab": {
          "base_uri": "https://localhost:8080/",
          "height": 34
        },
        "outputId": "0de0c212-ffac-473c-8986-38a16db5a69c"
      },
      "source": [
        "# CHANGE DIRECTORY TO PLACE WHERE WANT TO MAKE DIRECTORES\n",
        "cd /content/drive/'My Drive'/images/'NIH chest X ray images'/"
      ],
      "execution_count": 298,
      "outputs": [
        {
          "output_type": "stream",
          "text": [
            "/content/drive/.shortcut-targets-by-id/1iVV0f2kJC19GJZlSKvc9A6theRLdsc6-/COVID_19_project/NIH chest X ray images\n"
          ],
          "name": "stdout"
        }
      ]
    },
    {
      "cell_type": "code",
      "metadata": {
        "id": "po-SDjy2uGqC",
        "colab_type": "code",
        "colab": {
          "base_uri": "https://localhost:8080/",
          "height": 34
        },
        "outputId": "9027eb06-c122-4e33-e178-66677aaab0ab"
      },
      "source": [
        "# MAKE DIRECTORIES\n",
        "for dirName in class_list:\n",
        "  if not os.path.exists(dirName):\n",
        "    os.mkdir(dirName)\n",
        "    print(\"Directory \" , dirName ,  \" Created \")\n",
        "else:    \n",
        "    print(\"Directory \" , dirName ,  \" already exists\")"
      ],
      "execution_count": 299,
      "outputs": [
        {
          "output_type": "stream",
          "text": [
            "Directory  Pneumonia  already exists\n"
          ],
          "name": "stdout"
        }
      ]
    },
    {
      "cell_type": "code",
      "metadata": {
        "id": "_NYIibpdav4s",
        "colab_type": "code",
        "colab": {
          "base_uri": "https://localhost:8080/",
          "height": 210
        },
        "outputId": "87dcefdc-d3a5-4a35-98b2-8ae07ec3af22"
      },
      "source": [
        "# VERIFY DIRECTORIES EXIST\n",
        "ls"
      ],
      "execution_count": 300,
      "outputs": [
        {
          "output_type": "stream",
          "text": [
            " \u001b[0m\u001b[01;34mAtelectasis\u001b[0m/                      \u001b[01;34mimages_001\u001b[0m/   \u001b[01;34mimages_012\u001b[0m/\n",
            " \u001b[01;34mCardiomegaly\u001b[0m/                     \u001b[01;34mimages_002\u001b[0m/   \u001b[01;34mInfiltration\u001b[0m/\n",
            " \u001b[01;34mConsolidation\u001b[0m/                    \u001b[01;34mimages_003\u001b[0m/   \u001b[01;34mMass\u001b[0m/\n",
            " Data_Entry_2017.csv               \u001b[01;34mimages_004\u001b[0m/   \u001b[01;34mNodule\u001b[0m/\n",
            " Data_Entry_2017_multi_class.csv   \u001b[01;34mimages_005\u001b[0m/  \u001b[01;34m'No Finding'\u001b[0m/\n",
            " Data_Entry_2017_one_class.csv     \u001b[01;34mimages_006\u001b[0m/   \u001b[01;34mPleural_Thickening\u001b[0m/\n",
            " \u001b[01;34mEdema\u001b[0m/                            \u001b[01;34mimages_007\u001b[0m/   \u001b[01;34mPneumonia\u001b[0m/\n",
            " \u001b[01;34mEffusion\u001b[0m/                         \u001b[01;34mimages_008\u001b[0m/   \u001b[01;34mPneumothorax\u001b[0m/\n",
            " \u001b[01;34mEmphysema\u001b[0m/                        \u001b[01;34mimages_009\u001b[0m/   README_CHESTXRAY.pdf\n",
            " \u001b[01;34mFibrosis\u001b[0m/                         \u001b[01;34mimages_010\u001b[0m/\n",
            " \u001b[01;34mHernia\u001b[0m/                           \u001b[01;34mimages_011\u001b[0m/\n"
          ],
          "name": "stdout"
        }
      ]
    },
    {
      "cell_type": "markdown",
      "metadata": {
        "id": "U2-vRIP_fc6f",
        "colab_type": "text"
      },
      "source": [
        "### 5) Copy images from directories into single class target directory  "
      ]
    },
    {
      "cell_type": "code",
      "metadata": {
        "id": "CZQ8FWs7ntgB",
        "colab_type": "code",
        "colab": {}
      },
      "source": [
        "#ls /content/drive/'My Drive'/images/'NIH chest X ray images'/images_001/images/"
      ],
      "execution_count": 0,
      "outputs": []
    },
    {
      "cell_type": "code",
      "metadata": {
        "id": "X7iBrTUtocqZ",
        "colab_type": "code",
        "colab": {}
      },
      "source": [
        "# VARIABLES FOR COPY\n",
        "files = ['00000001_000.png', '00000456_000.png', '00000877_026.png', '00000001_001.png', '00000456_001.png']\n",
        "source = '/content/drive/My Drive/images/NIH chest X ray images/images_001/images/'\n",
        "target = '/content/drive/My Drive/images/NIH chest X ray images/No Finding/'"
      ],
      "execution_count": 0,
      "outputs": []
    },
    {
      "cell_type": "code",
      "metadata": {
        "id": "QpfpKPl1rH4d",
        "colab_type": "code",
        "colab": {
          "base_uri": "https://localhost:8080/",
          "height": 34
        },
        "outputId": "db14caa9-0507-404a-a4af-b3a5d58c6164"
      },
      "source": [
        "# NEED TO BE IN CORRECT BASE DIRECTORY TO COPY FROM, NOT PASSING THIS INTO COPY FUNCTION, ONLY PASS TARGET\n",
        "cd '/content/drive/My Drive/images/NIH chest X ray images/images_001/images/'"
      ],
      "execution_count": 303,
      "outputs": [
        {
          "output_type": "stream",
          "text": [
            "/content/drive/.shortcut-targets-by-id/1iVV0f2kJC19GJZlSKvc9A6theRLdsc6-/COVID_19_project/NIH chest X ray images/images_001/images\n"
          ],
          "name": "stdout"
        }
      ]
    },
    {
      "cell_type": "code",
      "metadata": {
        "id": "_F-H-ARef1dE",
        "colab_type": "code",
        "colab": {
          "base_uri": "https://localhost:8080/",
          "height": 105
        },
        "outputId": "33494963-822f-46e6-ce77-9f5136afd8bd"
      },
      "source": [
        "# COPY IMAGES FROM SOURCE TO TARGET DESTINATION\n",
        "for file in files:\n",
        "  if not os.path.exists(target):\n",
        "    print(\"{} does not exist\".format(target))\n",
        "  else:\n",
        "    #shutil.copy(file, target)\n",
        "    print(\"copied {} to: {}\".format(file, target))"
      ],
      "execution_count": 306,
      "outputs": [
        {
          "output_type": "stream",
          "text": [
            "copied 00000001_000.png to: /content/drive/My Drive/images/NIH chest X ray images/No Finding/\n",
            "copied 00000456_000.png to: /content/drive/My Drive/images/NIH chest X ray images/No Finding/\n",
            "copied 00000877_026.png to: /content/drive/My Drive/images/NIH chest X ray images/No Finding/\n",
            "copied 00000001_001.png to: /content/drive/My Drive/images/NIH chest X ray images/No Finding/\n",
            "copied 00000456_001.png to: /content/drive/My Drive/images/NIH chest X ray images/No Finding/\n"
          ],
          "name": "stdout"
        }
      ]
    },
    {
      "cell_type": "code",
      "metadata": {
        "id": "Xpdqw8OItor4",
        "colab_type": "code",
        "colab": {
          "base_uri": "https://localhost:8080/",
          "height": 52
        },
        "outputId": "da1443a6-eda4-4fa4-f38e-621e8e6528ab"
      },
      "source": [
        "# VERIFY COPIED CORRECTLY\n",
        "ls '/content/drive/My Drive/images/NIH chest X ray images/No Finding/'"
      ],
      "execution_count": 307,
      "outputs": [
        {
          "output_type": "stream",
          "text": [
            "00000001_000.png  00000456_000.png  00000877_026.png\n",
            "00000001_001.png  00000456_001.png\n"
          ],
          "name": "stdout"
        }
      ]
    },
    {
      "cell_type": "markdown",
      "metadata": {
        "id": "pT3MbollfiDm",
        "colab_type": "text"
      },
      "source": [
        "### 6) Consider removing or compressing original image file directories  \n"
      ]
    },
    {
      "cell_type": "markdown",
      "metadata": {
        "id": "Rg3WSQcGfisO",
        "colab_type": "text"
      },
      "source": [
        "### 7) Explore data, identify if need to adjust prior to tensors  "
      ]
    },
    {
      "cell_type": "markdown",
      "metadata": {
        "id": "04EuFStufi2F",
        "colab_type": "text"
      },
      "source": [
        "### 8) Create tensors\n"
      ]
    },
    {
      "cell_type": "code",
      "metadata": {
        "id": "06PmUe0U5C_e",
        "colab_type": "code",
        "colab": {
          "base_uri": "https://localhost:8080/",
          "height": 34
        },
        "outputId": "d7da130b-ab68-4906-c9b5-510df9b44395"
      },
      "source": [
        "cd '/content/drive/My Drive/images/NIH chest X ray images/No Finding/'"
      ],
      "execution_count": 320,
      "outputs": [
        {
          "output_type": "stream",
          "text": [
            "/content/drive/.shortcut-targets-by-id/1iVV0f2kJC19GJZlSKvc9A6theRLdsc6-/COVID_19_project/NIH chest X ray images/No Finding\n"
          ],
          "name": "stdout"
        }
      ]
    },
    {
      "cell_type": "code",
      "metadata": {
        "id": "obEwKqDj5q4p",
        "colab_type": "code",
        "colab": {}
      },
      "source": [
        "# CREATE A LIST OF ALL FILES IN FOLDER\n",
        "from os import listdir\n",
        "from os.path import isfile, join\n",
        "mypath = '/content/drive/My Drive/images/NIH chest X ray images/No Finding/'\n",
        "onlyfiles = [f for f in listdir(mypath) if isfile(join(mypath, f))]"
      ],
      "execution_count": 0,
      "outputs": []
    },
    {
      "cell_type": "code",
      "metadata": {
        "id": "iJPz7LjV5e7-",
        "colab_type": "code",
        "colab": {
          "base_uri": "https://localhost:8080/",
          "height": 105
        },
        "outputId": "0202dafe-01ec-4f4b-c0a5-7920b01a62a5"
      },
      "source": [
        "for item in onlyfiles:\n",
        "  print(item)"
      ],
      "execution_count": 323,
      "outputs": [
        {
          "output_type": "stream",
          "text": [
            "00000001_000.png\n",
            "00000456_000.png\n",
            "00000877_026.png\n",
            "00000001_001.png\n",
            "00000456_001.png\n"
          ],
          "name": "stdout"
        }
      ]
    },
    {
      "cell_type": "markdown",
      "metadata": {
        "id": "SV2bJNq29YGl",
        "colab_type": "text"
      },
      "source": [
        "## !!! MAKE THIS A FUNCTION"
      ]
    },
    {
      "cell_type": "code",
      "metadata": {
        "id": "Opram74pvnRN",
        "colab_type": "code",
        "colab": {}
      },
      "source": [
        "import cv2\n",
        "\n",
        "nrows = 224\n",
        "ncolumns = 224\n",
        "channels = 3\n",
        "X_pos = []\n",
        "\n",
        "# FOR IMAGE IN DIRECTORY\n",
        "for item in onlyfiles:\n",
        "  \n",
        "  # cv2.IMREAD_COLOR reads as RGB colors but no transparency channel. This is the default value \n",
        "  # cv2.IMREAD_GRAYSCALE reads as grey image. If color image, grey value calculated by taking the average of color channels.\n",
        "  # cv2.IMREAD_UNCHANGED reads the image as is from the source.\n",
        "  b = cv2.imread(item, cv2.IMREAD_COLOR)\n",
        "  \n",
        "  # interpolation methods are cv.INTER_AREA for shrinking and cv.INTER_CUBIC(slow) & cv.INTER_LINEAR for zooming. \n",
        "  # By default, interpolation method used is cv.INTER_LINEAR for all resizing purposes.\n",
        "  b = cv2.resize(b,(nrows, ncolumns), interpolation = cv2.INTER_CUBIC)\n",
        " \n",
        "  # ADD TO A LIST \n",
        "  X_pos.append(b) "
      ],
      "execution_count": 0,
      "outputs": []
    },
    {
      "cell_type": "code",
      "metadata": {
        "id": "oSTk2CaH9O9Z",
        "colab_type": "code",
        "colab": {
          "base_uri": "https://localhost:8080/",
          "height": 34
        },
        "outputId": "3139c9a2-53e6-4af0-8405-e7d705814ece"
      },
      "source": [
        "print(len(X_pos))\n",
        "#print(X_pos)"
      ],
      "execution_count": 327,
      "outputs": [
        {
          "output_type": "stream",
          "text": [
            "5\n"
          ],
          "name": "stdout"
        }
      ]
    },
    {
      "cell_type": "markdown",
      "metadata": {
        "id": "TO8tDr7xAKux",
        "colab_type": "text"
      },
      "source": [
        "# !!! stop code here"
      ]
    },
    {
      "cell_type": "code",
      "metadata": {
        "id": "1YVJKK_HAHFe",
        "colab_type": "code",
        "colab": {}
      },
      "source": [
        "break"
      ],
      "execution_count": 0,
      "outputs": []
    },
    {
      "cell_type": "markdown",
      "metadata": {
        "id": "QkyCJ1Wv9mQB",
        "colab_type": "text"
      },
      "source": [
        "## !!! TEST TRAIN VAL SPLIT ON LIST OF IMAGES"
      ]
    },
    {
      "cell_type": "code",
      "metadata": {
        "id": "Yj3d1Ldy9w3z",
        "colab_type": "code",
        "colab": {}
      },
      "source": [
        "from sklearn.model_selection import train_test_split\n",
        "#X_train_pos, X_val_pos = train_test_split(X_pos, test_size = .1, random_state = 42)\n",
        "#X_train_pos, X_test_pos = train_test_split(X_train_pos, test_size = .3, random_state = 42)"
      ],
      "execution_count": 0,
      "outputs": []
    },
    {
      "cell_type": "markdown",
      "metadata": {
        "id": "3OtszN1B_2_U",
        "colab_type": "text"
      },
      "source": [
        "## !!! MAKE TENSORS ONCE SPLIT"
      ]
    },
    {
      "cell_type": "code",
      "metadata": {
        "id": "XIWk1QznvnTu",
        "colab_type": "code",
        "colab": {}
      },
      "source": [
        "np.save('X_train', np.array(X_train))\n",
        "np.save('y_train', np.array(y_train))\n",
        "np.save('X_test', np.array(X_test))\n",
        "np.save('y_test', np.array(y_test))\n",
        "np.save('X_val', np.array(X_val))\n",
        "np.save('y_val', np.array(y_val))"
      ],
      "execution_count": 0,
      "outputs": []
    },
    {
      "cell_type": "markdown",
      "metadata": {
        "id": "kwf5fAGg9kAB",
        "colab_type": "text"
      },
      "source": [
        "## !!! GENERATE LABEL LIST OF TWO DIMENSIONS\n"
      ]
    },
    {
      "cell_type": "code",
      "metadata": {
        "id": "U0UXrzYWvnTb",
        "colab_type": "code",
        "colab": {}
      },
      "source": [
        "y_0_train = list(np.zeros(len(X_train_neg)))\n",
        "y_1_train = list(np.ones(len(X_train_pos)))\n",
        "y_train = y_0_train + y_1_train\n",
        "\n",
        "y_0_test = list(np.zeros(len(X_test_neg)))\n",
        "y_1_test = list(np.ones(len(X_test_pos)))\n",
        "y_test = y_0_test + y_1_test\n",
        "\n",
        "y_0_val = list(np.zeros(len(X_val_neg)))\n",
        "y_1_val = list(np.ones(len(X_val_pos)))\n",
        "y_val = y_0_val + y_1_val"
      ],
      "execution_count": 0,
      "outputs": []
    },
    {
      "cell_type": "markdown",
      "metadata": {
        "id": "YHofxI7-fuqp",
        "colab_type": "text"
      },
      "source": [
        "### 9) Remove directories or zip directories after created tensors to save space.\n"
      ]
    },
    {
      "cell_type": "code",
      "metadata": {
        "id": "C1K4CqZZbhfz",
        "colab_type": "code",
        "colab": {
          "base_uri": "https://localhost:8080/",
          "height": 280
        },
        "outputId": "b96b3349-dfed-466b-cf2d-fe0a96236671"
      },
      "source": [
        "# IF NEED REMOVE DIRECTORIES CREATED AFTER CREATE TENSOR TO SAVE SPACE\n",
        "for dirName in class_list:\n",
        "  if not os.path.exists(dirName):\n",
        "    print(\"Directory \" , dirName ,  \" Does not exist \")\n",
        "  else:\n",
        "    #os.rmdir(dirName)\n",
        "    print(\"Directory \" , dirName ,  \" Removed \")"
      ],
      "execution_count": 308,
      "outputs": [
        {
          "output_type": "stream",
          "text": [
            "Directory  Cardiomegaly  Does not exist \n",
            "Directory  No Finding  Does not exist \n",
            "Directory  Hernia  Does not exist \n",
            "Directory  Infiltration  Does not exist \n",
            "Directory  Nodule  Does not exist \n",
            "Directory  Emphysema  Does not exist \n",
            "Directory  Effusion  Does not exist \n",
            "Directory  Atelectasis  Does not exist \n",
            "Directory  Pleural_Thickening  Does not exist \n",
            "Directory  Pneumothorax  Does not exist \n",
            "Directory  Mass  Does not exist \n",
            "Directory  Fibrosis  Does not exist \n",
            "Directory  Consolidation  Does not exist \n",
            "Directory  Edema  Does not exist \n",
            "Directory  Pneumonia  Does not exist \n"
          ],
          "name": "stdout"
        }
      ]
    },
    {
      "cell_type": "code",
      "metadata": {
        "id": "TTy1pxuS1Rpo",
        "colab_type": "code",
        "colab": {}
      },
      "source": [
        ""
      ],
      "execution_count": 0,
      "outputs": []
    }
  ]
}