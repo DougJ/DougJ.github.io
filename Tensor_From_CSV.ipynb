{
  "nbformat": 4,
  "nbformat_minor": 0,
  "metadata": {
    "colab": {
      "name": "Tensor_From_CSV.ipynb",
      "provenance": [],
      "authorship_tag": "ABX9TyM9DB58MMdy5sTf7fxtg/Tb",
      "include_colab_link": true
    },
    "kernelspec": {
      "name": "python3",
      "display_name": "Python 3"
    }
  },
  "cells": [
    {
      "cell_type": "markdown",
      "metadata": {
        "id": "view-in-github",
        "colab_type": "text"
      },
      "source": [
        "<a href=\"https://colab.research.google.com/github/DougJ/DougJ.github.io/blob/master/Tensor_From_CSV.ipynb\" target=\"_parent\"><img src=\"https://colab.research.google.com/assets/colab-badge.svg\" alt=\"Open In Colab\"/></a>"
      ]
    },
    {
      "cell_type": "markdown",
      "metadata": {
        "id": "CM7bxsXdeYHR",
        "colab_type": "text"
      },
      "source": [
        "## Create tensors from a CSV file. \n",
        "1) Load CSV file as dataframe  \n",
        "2) Create two unique data frames for single and multi class\n",
        "3) Export to two unique csv files  \n",
        "4) Create directories based on unique single class  \n",
        "5) Copy images from directories into single class target directory   \n",
        "6) Consider removing or compressing original image file  directories   \n",
        "7) Explore data, identify if need to adjust prior to tensors   \n",
        "8) Create tensors   "
      ]
    },
    {
      "cell_type": "markdown",
      "metadata": {
        "id": "UmWoN22Bu9Py",
        "colab_type": "text"
      },
      "source": [
        "### TO DISCUSS\n",
        "Covid images, or ignore for now?  \n",
        "Doing:\n",
        "   Cardiomegaly not Cardiomegaly  tensors? (meaning everything not Cariomegaly)  \n",
        "   Healthy not Healthy (meaning everything not Healthy)  \n",
        "If doing this, do we balance?  \n",
        "\n",
        "Or\n",
        "\n",
        "Doing:\n",
        "Tensor for each individual class?  \n",
        "If doing this, do we balance?  \n",
        "\n",
        "Do we train on imagenet\n",
        "Then train on healthy (lot of images, can create a bonus training set. Do we need to train on pnumothorax?)  \n",
        "Then train on unhealthy  \n",
        "\n",
        "Do we want to also pull from Stanford site?  "
      ]
    },
    {
      "cell_type": "code",
      "metadata": {
        "id": "PLy5VWe1BgGX",
        "colab_type": "code",
        "colab": {}
      },
      "source": [
        "import pandas as pd\n",
        "import os"
      ],
      "execution_count": 0,
      "outputs": []
    },
    {
      "cell_type": "markdown",
      "metadata": {
        "id": "8TTbINaxeiOf",
        "colab_type": "text"
      },
      "source": [
        "### 1) Load CSV file as dataframe  "
      ]
    },
    {
      "cell_type": "code",
      "metadata": {
        "id": "M-CMSkdtA8KH",
        "colab_type": "code",
        "outputId": "7b52709c-41f7-4eb1-ea80-8446c52f8a18",
        "colab": {
          "base_uri": "https://localhost:8080/",
          "height": 34
        }
      },
      "source": [
        "from google.colab import drive\n",
        "drive.mount('/content/drive')"
      ],
      "execution_count": 120,
      "outputs": [
        {
          "output_type": "stream",
          "text": [
            "Drive already mounted at /content/drive; to attempt to forcibly remount, call drive.mount(\"/content/drive\", force_remount=True).\n"
          ],
          "name": "stdout"
        }
      ]
    },
    {
      "cell_type": "code",
      "metadata": {
        "id": "EBJVSzlNAAbe",
        "colab_type": "code",
        "outputId": "7d600e2a-310b-4143-f85b-e11621d0bfcf",
        "colab": {
          "base_uri": "https://localhost:8080/",
          "height": 34
        }
      },
      "source": [
        "cd /content/drive/'My Drive'/images/'NIH chest X ray images'/"
      ],
      "execution_count": 129,
      "outputs": [
        {
          "output_type": "stream",
          "text": [
            "/content/drive/.shortcut-targets-by-id/1iVV0f2kJC19GJZlSKvc9A6theRLdsc6-/COVID_19_project/NIH chest X ray images\n"
          ],
          "name": "stdout"
        }
      ]
    },
    {
      "cell_type": "code",
      "metadata": {
        "id": "ng1VMo9kWkTz",
        "colab_type": "code",
        "colab": {
          "base_uri": "https://localhost:8080/",
          "height": 34
        },
        "outputId": "6f10d17a-dc03-48ac-bb93-1ce089569e7b"
      },
      "source": [
        "pwd"
      ],
      "execution_count": 138,
      "outputs": [
        {
          "output_type": "execute_result",
          "data": {
            "text/plain": [
              "'/content/drive/.shortcut-targets-by-id/1iVV0f2kJC19GJZlSKvc9A6theRLdsc6-/COVID_19_project/NIH chest X ray images'"
            ]
          },
          "metadata": {
            "tags": []
          },
          "execution_count": 138
        }
      ]
    },
    {
      "cell_type": "markdown",
      "metadata": {
        "id": "9vtdsMt6dPey",
        "colab_type": "text"
      },
      "source": [
        ""
      ]
    },
    {
      "cell_type": "code",
      "metadata": {
        "id": "Mv6PhfG1B760",
        "colab_type": "code",
        "outputId": "3c969ee9-dc31-44df-978d-e788c1f4e1c8",
        "colab": {
          "base_uri": "https://localhost:8080/",
          "height": 87
        }
      },
      "source": [
        "ls"
      ],
      "execution_count": 130,
      "outputs": [
        {
          "output_type": "stream",
          "text": [
            "Data_Entry_2017.csv  \u001b[0m\u001b[01;34mimages_004\u001b[0m/  \u001b[01;34mimages_008\u001b[0m/  \u001b[01;34mimages_012\u001b[0m/\n",
            "\u001b[01;34mimages_001\u001b[0m/          \u001b[01;34mimages_005\u001b[0m/  \u001b[01;34mimages_009\u001b[0m/  README_CHESTXRAY.pdf\n",
            "\u001b[01;34mimages_002\u001b[0m/          \u001b[01;34mimages_006\u001b[0m/  \u001b[01;34mimages_010\u001b[0m/\n",
            "\u001b[01;34mimages_003\u001b[0m/          \u001b[01;34mimages_007\u001b[0m/  \u001b[01;34mimages_011\u001b[0m/\n"
          ],
          "name": "stdout"
        }
      ]
    },
    {
      "cell_type": "code",
      "metadata": {
        "id": "dBkW6TBQ_hB_",
        "colab_type": "code",
        "colab": {
          "base_uri": "https://localhost:8080/",
          "height": 236
        },
        "outputId": "e706ba03-0400-429f-969e-9a49e87aa94a"
      },
      "source": [
        "df = pd.DataFrame()\n",
        "df = pd.read_csv('Data_Entry_2017.csv')\n",
        "df.head()"
      ],
      "execution_count": 131,
      "outputs": [
        {
          "output_type": "execute_result",
          "data": {
            "text/html": [
              "<div>\n",
              "<style scoped>\n",
              "    .dataframe tbody tr th:only-of-type {\n",
              "        vertical-align: middle;\n",
              "    }\n",
              "\n",
              "    .dataframe tbody tr th {\n",
              "        vertical-align: top;\n",
              "    }\n",
              "\n",
              "    .dataframe thead th {\n",
              "        text-align: right;\n",
              "    }\n",
              "</style>\n",
              "<table border=\"1\" class=\"dataframe\">\n",
              "  <thead>\n",
              "    <tr style=\"text-align: right;\">\n",
              "      <th></th>\n",
              "      <th>Image Index</th>\n",
              "      <th>Finding Labels</th>\n",
              "      <th>Follow-up #</th>\n",
              "      <th>Patient ID</th>\n",
              "      <th>Patient Age</th>\n",
              "      <th>Patient Gender</th>\n",
              "      <th>View Position</th>\n",
              "      <th>OriginalImage[Width</th>\n",
              "      <th>Height]</th>\n",
              "      <th>OriginalImagePixelSpacing[x</th>\n",
              "      <th>y]</th>\n",
              "      <th>Unnamed: 11</th>\n",
              "    </tr>\n",
              "  </thead>\n",
              "  <tbody>\n",
              "    <tr>\n",
              "      <th>0</th>\n",
              "      <td>00000001_000.png</td>\n",
              "      <td>Cardiomegaly</td>\n",
              "      <td>0</td>\n",
              "      <td>1</td>\n",
              "      <td>58</td>\n",
              "      <td>M</td>\n",
              "      <td>PA</td>\n",
              "      <td>2682</td>\n",
              "      <td>2749</td>\n",
              "      <td>0.143</td>\n",
              "      <td>0.143</td>\n",
              "      <td>NaN</td>\n",
              "    </tr>\n",
              "    <tr>\n",
              "      <th>1</th>\n",
              "      <td>00000001_001.png</td>\n",
              "      <td>Cardiomegaly|Emphysema</td>\n",
              "      <td>1</td>\n",
              "      <td>1</td>\n",
              "      <td>58</td>\n",
              "      <td>M</td>\n",
              "      <td>PA</td>\n",
              "      <td>2894</td>\n",
              "      <td>2729</td>\n",
              "      <td>0.143</td>\n",
              "      <td>0.143</td>\n",
              "      <td>NaN</td>\n",
              "    </tr>\n",
              "    <tr>\n",
              "      <th>2</th>\n",
              "      <td>00000001_002.png</td>\n",
              "      <td>Cardiomegaly|Effusion</td>\n",
              "      <td>2</td>\n",
              "      <td>1</td>\n",
              "      <td>58</td>\n",
              "      <td>M</td>\n",
              "      <td>PA</td>\n",
              "      <td>2500</td>\n",
              "      <td>2048</td>\n",
              "      <td>0.168</td>\n",
              "      <td>0.168</td>\n",
              "      <td>NaN</td>\n",
              "    </tr>\n",
              "    <tr>\n",
              "      <th>3</th>\n",
              "      <td>00000002_000.png</td>\n",
              "      <td>No Finding</td>\n",
              "      <td>0</td>\n",
              "      <td>2</td>\n",
              "      <td>81</td>\n",
              "      <td>M</td>\n",
              "      <td>PA</td>\n",
              "      <td>2500</td>\n",
              "      <td>2048</td>\n",
              "      <td>0.171</td>\n",
              "      <td>0.171</td>\n",
              "      <td>NaN</td>\n",
              "    </tr>\n",
              "    <tr>\n",
              "      <th>4</th>\n",
              "      <td>00000003_000.png</td>\n",
              "      <td>Hernia</td>\n",
              "      <td>0</td>\n",
              "      <td>3</td>\n",
              "      <td>81</td>\n",
              "      <td>F</td>\n",
              "      <td>PA</td>\n",
              "      <td>2582</td>\n",
              "      <td>2991</td>\n",
              "      <td>0.143</td>\n",
              "      <td>0.143</td>\n",
              "      <td>NaN</td>\n",
              "    </tr>\n",
              "  </tbody>\n",
              "</table>\n",
              "</div>"
            ],
            "text/plain": [
              "        Image Index          Finding Labels  ...     y]  Unnamed: 11\n",
              "0  00000001_000.png            Cardiomegaly  ...  0.143          NaN\n",
              "1  00000001_001.png  Cardiomegaly|Emphysema  ...  0.143          NaN\n",
              "2  00000001_002.png   Cardiomegaly|Effusion  ...  0.168          NaN\n",
              "3  00000002_000.png              No Finding  ...  0.171          NaN\n",
              "4  00000003_000.png                  Hernia  ...  0.143          NaN\n",
              "\n",
              "[5 rows x 12 columns]"
            ]
          },
          "metadata": {
            "tags": []
          },
          "execution_count": 131
        }
      ]
    },
    {
      "cell_type": "markdown",
      "metadata": {
        "id": "mOG4q3cJemoI",
        "colab_type": "text"
      },
      "source": [
        "### 2) Create two unique data frames for single and multi class"
      ]
    },
    {
      "cell_type": "code",
      "metadata": {
        "id": "0oIotWbjDKqO",
        "colab_type": "code",
        "colab": {}
      },
      "source": [
        "df_pipe = pd.DataFrame(columns=df.columns)\n",
        "df_noPipe = pd.DataFrame(columns=df.columns)"
      ],
      "execution_count": 0,
      "outputs": []
    },
    {
      "cell_type": "code",
      "metadata": {
        "id": "kZ6IZQ97Qaq0",
        "colab_type": "code",
        "colab": {}
      },
      "source": [
        "cols_to_copy = ['Finding Labels', 'Image Index']\n",
        "# SPECIFIC COLUMNS\n",
        "df_one_class = df.loc[~df['Finding Labels'].str.contains(r'\\|'), cols_to_copy].copy()\n",
        "df_multi_class = df.loc[df['Finding Labels'].str.contains(r'\\|'), cols_to_copy].copy()\n",
        "# ALL COLUMNS\n",
        "# df_one_class = df.loc[~df['Finding Labels'].str.contains(r'\\|'), :].copy()\n",
        "#df_multi_class = df.loc[df['Finding Labels'].str.contains(r'\\|'), :].copy()"
      ],
      "execution_count": 0,
      "outputs": []
    },
    {
      "cell_type": "markdown",
      "metadata": {
        "id": "oR19894cfLMJ",
        "colab_type": "text"
      },
      "source": [
        "### 3) Export to two unique csv files "
      ]
    },
    {
      "cell_type": "code",
      "metadata": {
        "id": "9hXYHG9DDWxB",
        "colab_type": "code",
        "colab": {}
      },
      "source": [
        "df_one_class.to_csv('Data_Entry_2017_one_class.csv', sep='\\t', encoding='utf-8')"
      ],
      "execution_count": 0,
      "outputs": []
    },
    {
      "cell_type": "code",
      "metadata": {
        "id": "S6hvytLkX5H_",
        "colab_type": "code",
        "colab": {}
      },
      "source": [
        "df_multi_class.to_csv('Data_Entry_2017_multi_class.csv', sep='\\t', encoding='utf-8')"
      ],
      "execution_count": 0,
      "outputs": []
    },
    {
      "cell_type": "markdown",
      "metadata": {
        "id": "8fdUdGm1fIPB",
        "colab_type": "text"
      },
      "source": [
        "### 4) Create directories based on unique single class  \n"
      ]
    },
    {
      "cell_type": "code",
      "metadata": {
        "id": "VPkjMfVTS88G",
        "colab_type": "code",
        "colab": {
          "base_uri": "https://localhost:8080/",
          "height": 78
        },
        "outputId": "cd7ae3be-72e4-4bc8-de26-93fdf11ddeb2"
      },
      "source": [
        "df_multi_class.head(1)"
      ],
      "execution_count": 186,
      "outputs": [
        {
          "output_type": "execute_result",
          "data": {
            "text/html": [
              "<div>\n",
              "<style scoped>\n",
              "    .dataframe tbody tr th:only-of-type {\n",
              "        vertical-align: middle;\n",
              "    }\n",
              "\n",
              "    .dataframe tbody tr th {\n",
              "        vertical-align: top;\n",
              "    }\n",
              "\n",
              "    .dataframe thead th {\n",
              "        text-align: right;\n",
              "    }\n",
              "</style>\n",
              "<table border=\"1\" class=\"dataframe\">\n",
              "  <thead>\n",
              "    <tr style=\"text-align: right;\">\n",
              "      <th></th>\n",
              "      <th>Finding Labels</th>\n",
              "      <th>Image Index</th>\n",
              "    </tr>\n",
              "  </thead>\n",
              "  <tbody>\n",
              "    <tr>\n",
              "      <th>1</th>\n",
              "      <td>Cardiomegaly|Emphysema</td>\n",
              "      <td>00000001_001.png</td>\n",
              "    </tr>\n",
              "  </tbody>\n",
              "</table>\n",
              "</div>"
            ],
            "text/plain": [
              "           Finding Labels       Image Index\n",
              "1  Cardiomegaly|Emphysema  00000001_001.png"
            ]
          },
          "metadata": {
            "tags": []
          },
          "execution_count": 186
        }
      ]
    },
    {
      "cell_type": "code",
      "metadata": {
        "id": "PhTovCslS9AL",
        "colab_type": "code",
        "colab": {
          "base_uri": "https://localhost:8080/",
          "height": 78
        },
        "outputId": "5c31f45c-673f-4e9b-f5d0-c309c1a77ac1"
      },
      "source": [
        "df_one_class.head(1)"
      ],
      "execution_count": 187,
      "outputs": [
        {
          "output_type": "execute_result",
          "data": {
            "text/html": [
              "<div>\n",
              "<style scoped>\n",
              "    .dataframe tbody tr th:only-of-type {\n",
              "        vertical-align: middle;\n",
              "    }\n",
              "\n",
              "    .dataframe tbody tr th {\n",
              "        vertical-align: top;\n",
              "    }\n",
              "\n",
              "    .dataframe thead th {\n",
              "        text-align: right;\n",
              "    }\n",
              "</style>\n",
              "<table border=\"1\" class=\"dataframe\">\n",
              "  <thead>\n",
              "    <tr style=\"text-align: right;\">\n",
              "      <th></th>\n",
              "      <th>Finding Labels</th>\n",
              "      <th>Image Index</th>\n",
              "    </tr>\n",
              "  </thead>\n",
              "  <tbody>\n",
              "    <tr>\n",
              "      <th>0</th>\n",
              "      <td>Cardiomegaly</td>\n",
              "      <td>00000001_000.png</td>\n",
              "    </tr>\n",
              "  </tbody>\n",
              "</table>\n",
              "</div>"
            ],
            "text/plain": [
              "  Finding Labels       Image Index\n",
              "0   Cardiomegaly  00000001_000.png"
            ]
          },
          "metadata": {
            "tags": []
          },
          "execution_count": 187
        }
      ]
    },
    {
      "cell_type": "code",
      "metadata": {
        "id": "13dS0M97Yydl",
        "colab_type": "code",
        "colab": {
          "base_uri": "https://localhost:8080/",
          "height": 169
        },
        "outputId": "c91e7cb2-cdd1-43c2-e7bd-cd3f562958ff"
      },
      "source": [
        "df_one_class.describe()"
      ],
      "execution_count": 155,
      "outputs": [
        {
          "output_type": "execute_result",
          "data": {
            "text/html": [
              "<div>\n",
              "<style scoped>\n",
              "    .dataframe tbody tr th:only-of-type {\n",
              "        vertical-align: middle;\n",
              "    }\n",
              "\n",
              "    .dataframe tbody tr th {\n",
              "        vertical-align: top;\n",
              "    }\n",
              "\n",
              "    .dataframe thead th {\n",
              "        text-align: right;\n",
              "    }\n",
              "</style>\n",
              "<table border=\"1\" class=\"dataframe\">\n",
              "  <thead>\n",
              "    <tr style=\"text-align: right;\">\n",
              "      <th></th>\n",
              "      <th>Finding Labels</th>\n",
              "      <th>Image Index</th>\n",
              "    </tr>\n",
              "  </thead>\n",
              "  <tbody>\n",
              "    <tr>\n",
              "      <th>count</th>\n",
              "      <td>91324</td>\n",
              "      <td>91324</td>\n",
              "    </tr>\n",
              "    <tr>\n",
              "      <th>unique</th>\n",
              "      <td>15</td>\n",
              "      <td>91324</td>\n",
              "    </tr>\n",
              "    <tr>\n",
              "      <th>top</th>\n",
              "      <td>No Finding</td>\n",
              "      <td>00022481_006.png</td>\n",
              "    </tr>\n",
              "    <tr>\n",
              "      <th>freq</th>\n",
              "      <td>60361</td>\n",
              "      <td>1</td>\n",
              "    </tr>\n",
              "  </tbody>\n",
              "</table>\n",
              "</div>"
            ],
            "text/plain": [
              "       Finding Labels       Image Index\n",
              "count           91324             91324\n",
              "unique             15             91324\n",
              "top        No Finding  00022481_006.png\n",
              "freq            60361                 1"
            ]
          },
          "metadata": {
            "tags": []
          },
          "execution_count": 155
        }
      ]
    },
    {
      "cell_type": "code",
      "metadata": {
        "id": "FlmFuYEjZTDF",
        "colab_type": "code",
        "colab": {
          "base_uri": "https://localhost:8080/",
          "height": 298
        },
        "outputId": "85175eff-163f-45cc-97ee-21f5649aeb83"
      },
      "source": [
        "df_one_class['Finding Labels'].value_counts()"
      ],
      "execution_count": 157,
      "outputs": [
        {
          "output_type": "execute_result",
          "data": {
            "text/plain": [
              "No Finding            60361\n",
              "Infiltration           9547\n",
              "Atelectasis            4215\n",
              "Effusion               3955\n",
              "Nodule                 2705\n",
              "Pneumothorax           2194\n",
              "Mass                   2139\n",
              "Consolidation          1310\n",
              "Pleural_Thickening     1126\n",
              "Cardiomegaly           1093\n",
              "Emphysema               892\n",
              "Fibrosis                727\n",
              "Edema                   628\n",
              "Pneumonia               322\n",
              "Hernia                  110\n",
              "Name: Finding Labels, dtype: int64"
            ]
          },
          "metadata": {
            "tags": []
          },
          "execution_count": 157
        }
      ]
    },
    {
      "cell_type": "code",
      "metadata": {
        "id": "sJko7F9lZqdE",
        "colab_type": "code",
        "colab": {
          "base_uri": "https://localhost:8080/",
          "height": 280
        },
        "outputId": "44a8d327-296a-4afe-97e2-d77a97276c7e"
      },
      "source": [
        "class_list = df_one_class['Finding Labels'].unique().tolist()\n",
        "class_list"
      ],
      "execution_count": 176,
      "outputs": [
        {
          "output_type": "execute_result",
          "data": {
            "text/plain": [
              "['Cardiomegaly',\n",
              " 'No Finding',\n",
              " 'Hernia',\n",
              " 'Infiltration',\n",
              " 'Nodule',\n",
              " 'Emphysema',\n",
              " 'Effusion',\n",
              " 'Atelectasis',\n",
              " 'Pleural_Thickening',\n",
              " 'Pneumothorax',\n",
              " 'Mass',\n",
              " 'Fibrosis',\n",
              " 'Consolidation',\n",
              " 'Edema',\n",
              " 'Pneumonia']"
            ]
          },
          "metadata": {
            "tags": []
          },
          "execution_count": 176
        }
      ]
    },
    {
      "cell_type": "code",
      "metadata": {
        "id": "VJaPTMTtamT_",
        "colab_type": "code",
        "colab": {
          "base_uri": "https://localhost:8080/",
          "height": 34
        },
        "outputId": "0935c292-792d-4e4c-d66b-4a4f309360fa"
      },
      "source": [
        "cd /content/drive/'My Drive'/images/'NIH chest X ray images'/"
      ],
      "execution_count": 230,
      "outputs": [
        {
          "output_type": "stream",
          "text": [
            "/content/drive/.shortcut-targets-by-id/1iVV0f2kJC19GJZlSKvc9A6theRLdsc6-/COVID_19_project/NIH chest X ray images\n"
          ],
          "name": "stdout"
        }
      ]
    },
    {
      "cell_type": "code",
      "metadata": {
        "id": "po-SDjy2uGqC",
        "colab_type": "code",
        "colab": {
          "base_uri": "https://localhost:8080/",
          "height": 34
        },
        "outputId": "952ebcfd-b164-492d-df9f-f00e31c2c861"
      },
      "source": [
        "for dirName in class_list:\n",
        "  if not os.path.exists(dirName):\n",
        "    os.mkdir(dirName)\n",
        "    print(\"Directory \" , dirName ,  \" Created \")\n",
        "else:    \n",
        "    print(\"Directory \" , dirName ,  \" already exists\")"
      ],
      "execution_count": 232,
      "outputs": [
        {
          "output_type": "stream",
          "text": [
            "Directory  Pneumonia  already exists\n"
          ],
          "name": "stdout"
        }
      ]
    },
    {
      "cell_type": "code",
      "metadata": {
        "id": "_NYIibpdav4s",
        "colab_type": "code",
        "colab": {
          "base_uri": "https://localhost:8080/",
          "height": 157
        },
        "outputId": "534c43c6-316e-456f-d2f0-385617182623"
      },
      "source": [
        "ls"
      ],
      "execution_count": 183,
      "outputs": [
        {
          "output_type": "stream",
          "text": [
            " \u001b[0m\u001b[01;34mAtelectasis\u001b[0m/          \u001b[01;34mHernia\u001b[0m/       \u001b[01;34mimages_008\u001b[0m/    \u001b[01;34m'No Finding'\u001b[0m/\n",
            " \u001b[01;34mCardiomegaly\u001b[0m/         \u001b[01;34mimages_001\u001b[0m/   \u001b[01;34mimages_009\u001b[0m/     \u001b[01;34mPleural_Thickening\u001b[0m/\n",
            " \u001b[01;34mConsolidation\u001b[0m/        \u001b[01;34mimages_002\u001b[0m/   \u001b[01;34mimages_010\u001b[0m/     \u001b[01;34mPneumonia\u001b[0m/\n",
            " Data_Entry_2017.csv   \u001b[01;34mimages_003\u001b[0m/   \u001b[01;34mimages_011\u001b[0m/     \u001b[01;34mPneumothorax\u001b[0m/\n",
            " \u001b[01;34mEdema\u001b[0m/                \u001b[01;34mimages_004\u001b[0m/   \u001b[01;34mimages_012\u001b[0m/     README_CHESTXRAY.pdf\n",
            " \u001b[01;34mEffusion\u001b[0m/             \u001b[01;34mimages_005\u001b[0m/   \u001b[01;34mInfiltration\u001b[0m/\n",
            " \u001b[01;34mEmphysema\u001b[0m/            \u001b[01;34mimages_006\u001b[0m/   \u001b[01;34mMass\u001b[0m/\n",
            " \u001b[01;34mFibrosis\u001b[0m/             \u001b[01;34mimages_007\u001b[0m/   \u001b[01;34mNodule\u001b[0m/\n"
          ],
          "name": "stdout"
        }
      ]
    },
    {
      "cell_type": "markdown",
      "metadata": {
        "id": "U2-vRIP_fc6f",
        "colab_type": "text"
      },
      "source": [
        "### 5) Copy images from directories into single class target directory  "
      ]
    },
    {
      "cell_type": "code",
      "metadata": {
        "id": "CZQ8FWs7ntgB",
        "colab_type": "code",
        "colab": {}
      },
      "source": [
        "#ls /content/drive/'My Drive'/images/'NIH chest X ray images'/images_001/images/"
      ],
      "execution_count": 0,
      "outputs": []
    },
    {
      "cell_type": "code",
      "metadata": {
        "id": "X7iBrTUtocqZ",
        "colab_type": "code",
        "colab": {}
      },
      "source": [
        "files = ['00000001_000.png', '00000456_000.png', '00000877_026.png', '00000001_001.png', '00000456_001.png']\n",
        "source = '/content/drive/My Drive/images/NIH chest X ray images/images_001/images/'\n",
        "target = '/content/drive/My Drive/images/NIH chest X ray images/No Finding/'"
      ],
      "execution_count": 0,
      "outputs": []
    },
    {
      "cell_type": "code",
      "metadata": {
        "id": "QpfpKPl1rH4d",
        "colab_type": "code",
        "colab": {
          "base_uri": "https://localhost:8080/",
          "height": 34
        },
        "outputId": "22d86fb0-115d-4ff3-a1c6-3d7edec8e18e"
      },
      "source": [
        "cd '/content/drive/My Drive/images/NIH chest X ray images/images_001/images/'"
      ],
      "execution_count": 234,
      "outputs": [
        {
          "output_type": "stream",
          "text": [
            "/content/drive/.shortcut-targets-by-id/1iVV0f2kJC19GJZlSKvc9A6theRLdsc6-/COVID_19_project/NIH chest X ray images/images_001/images\n"
          ],
          "name": "stdout"
        }
      ]
    },
    {
      "cell_type": "code",
      "metadata": {
        "id": "0ZllRMPBroa3",
        "colab_type": "code",
        "colab": {
          "base_uri": "https://localhost:8080/",
          "height": 34
        },
        "outputId": "d27aaa8b-e0b8-46cd-a880-11a13f01a94f"
      },
      "source": [
        "os.path.basename('00000001_000.png')"
      ],
      "execution_count": 215,
      "outputs": [
        {
          "output_type": "execute_result",
          "data": {
            "text/plain": [
              "'00000001_000.png'"
            ]
          },
          "metadata": {
            "tags": []
          },
          "execution_count": 215
        }
      ]
    },
    {
      "cell_type": "code",
      "metadata": {
        "id": "zciNDyYJr31F",
        "colab_type": "code",
        "colab": {}
      },
      "source": [
        "for file in files:\n",
        "    filename = os.path.basename(file)\n",
        "    #copyfile(file, os.path.join(target, filename))"
      ],
      "execution_count": 0,
      "outputs": []
    },
    {
      "cell_type": "code",
      "metadata": {
        "id": "_F-H-ARef1dE",
        "colab_type": "code",
        "colab": {
          "base_uri": "https://localhost:8080/",
          "height": 105
        },
        "outputId": "f2cf7f94-f567-435c-f415-e73e43b26dc0"
      },
      "source": [
        "import shutil\n",
        "for file in files:\n",
        "  if not os.path.exists(target):\n",
        "    print(\"{} does not exist\".format(target))\n",
        "  else:\n",
        "    #shutil.copy(file, target)\n",
        "    print(\"copied {} to: {}\".format(file, target))"
      ],
      "execution_count": 240,
      "outputs": [
        {
          "output_type": "stream",
          "text": [
            "copied 00000001_000.png to: /content/drive/My Drive/images/NIH chest X ray images/No Finding/\n",
            "copied 00000456_000.png to: /content/drive/My Drive/images/NIH chest X ray images/No Finding/\n",
            "copied 00000877_026.png to: /content/drive/My Drive/images/NIH chest X ray images/No Finding/\n",
            "copied 00000001_001.png to: /content/drive/My Drive/images/NIH chest X ray images/No Finding/\n",
            "copied 00000456_001.png to: /content/drive/My Drive/images/NIH chest X ray images/No Finding/\n"
          ],
          "name": "stdout"
        }
      ]
    },
    {
      "cell_type": "code",
      "metadata": {
        "id": "Xpdqw8OItor4",
        "colab_type": "code",
        "colab": {
          "base_uri": "https://localhost:8080/",
          "height": 52
        },
        "outputId": "3e943b85-382f-449c-c29a-c7eb6479082b"
      },
      "source": [
        "ls '/content/drive/My Drive/images/NIH chest X ray images/No Finding/'"
      ],
      "execution_count": 239,
      "outputs": [
        {
          "output_type": "stream",
          "text": [
            "00000001_000.png  00000456_000.png  00000877_026.png\n",
            "00000001_001.png  00000456_001.png\n"
          ],
          "name": "stdout"
        }
      ]
    },
    {
      "cell_type": "markdown",
      "metadata": {
        "id": "pT3MbollfiDm",
        "colab_type": "text"
      },
      "source": [
        "### 6) Consider removing or compressing original image file directories  \n"
      ]
    },
    {
      "cell_type": "markdown",
      "metadata": {
        "id": "Rg3WSQcGfisO",
        "colab_type": "text"
      },
      "source": [
        "### 7) Explore data, identify if need to adjust prior to tensors  "
      ]
    },
    {
      "cell_type": "markdown",
      "metadata": {
        "id": "04EuFStufi2F",
        "colab_type": "text"
      },
      "source": [
        "### 8) Create tensors\n"
      ]
    },
    {
      "cell_type": "markdown",
      "metadata": {
        "id": "YHofxI7-fuqp",
        "colab_type": "text"
      },
      "source": [
        "### 9) Remove directories or zip directories ...\n"
      ]
    },
    {
      "cell_type": "code",
      "metadata": {
        "id": "_rl0tqYPu2W5",
        "colab_type": "code",
        "colab": {}
      },
      "source": [
        ""
      ],
      "execution_count": 0,
      "outputs": []
    },
    {
      "cell_type": "code",
      "metadata": {
        "id": "C1K4CqZZbhfz",
        "colab_type": "code",
        "colab": {
          "base_uri": "https://localhost:8080/",
          "height": 280
        },
        "outputId": "2517e657-1c71-4dd3-9490-8a70fcd79a83"
      },
      "source": [
        "for dirName in class_list:\n",
        "  if not os.path.exists(dirName):\n",
        "    print(\"Directory \" , dirName ,  \" Does not exist \")\n",
        "  else:\n",
        "    #os.rmdir(dirName)\n",
        "    print(\"Directory \" , dirName ,  \" Removed \")"
      ],
      "execution_count": 228,
      "outputs": [
        {
          "output_type": "stream",
          "text": [
            "Directory  Cardiomegaly  Removed \n",
            "Directory  No Finding  Removed \n",
            "Directory  Hernia  Removed \n",
            "Directory  Infiltration  Removed \n",
            "Directory  Nodule  Removed \n",
            "Directory  Emphysema  Removed \n",
            "Directory  Effusion  Removed \n",
            "Directory  Atelectasis  Removed \n",
            "Directory  Pleural_Thickening  Removed \n",
            "Directory  Pneumothorax  Removed \n",
            "Directory  Mass  Removed \n",
            "Directory  Fibrosis  Removed \n",
            "Directory  Consolidation  Removed \n",
            "Directory  Edema  Removed \n",
            "Directory  Pneumonia  Removed \n"
          ],
          "name": "stdout"
        }
      ]
    },
    {
      "cell_type": "code",
      "metadata": {
        "id": "UgYBvUyqt4xl",
        "colab_type": "code",
        "colab": {}
      },
      "source": [
        ""
      ],
      "execution_count": 0,
      "outputs": []
    }
  ]
}