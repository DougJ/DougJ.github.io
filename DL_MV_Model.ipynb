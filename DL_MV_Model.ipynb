{
  "nbformat": 4,
  "nbformat_minor": 0,
  "metadata": {
    "colab": {
      "name": "DL_MV_Model.ipynb",
      "provenance": [],
      "collapsed_sections": [
        "itsorO9vEXT3",
        "y-ykYSWXI066",
        "0hGip4enxTJC",
        "UHrzxeDfG5V9"
      ],
      "machine_shape": "hm",
      "include_colab_link": true
    },
    "kernelspec": {
      "name": "python3",
      "display_name": "Python 3"
    },
    "accelerator": "GPU"
  },
  "cells": [
    {
      "cell_type": "markdown",
      "metadata": {
        "id": "view-in-github",
        "colab_type": "text"
      },
      "source": [
        "<a href=\"https://colab.research.google.com/github/DougJ/DougJ.github.io/blob/master/DL_MV_Model.ipynb\" target=\"_parent\"><img src=\"https://colab.research.google.com/assets/colab-badge.svg\" alt=\"Open In Colab\"/></a>"
      ]
    },
    {
      "cell_type": "markdown",
      "metadata": {
        "id": "vXLp5CN4A-g2",
        "colab_type": "text"
      },
      "source": [
        "## ResNet50 Architecture on Covid X-Ray transfer learning.\n",
        "\n",
        "* Authored by Doug Johnson  and Jie Dong\n",
        "\n",
        "Some code borrowed from Machine Learning Mastery and other websites. "
      ]
    },
    {
      "cell_type": "markdown",
      "metadata": {
        "id": "rggTCjIeV2uN",
        "colab_type": "text"
      },
      "source": [
        "## Summary"
      ]
    },
    {
      "cell_type": "markdown",
      "metadata": {
        "id": "2mozubPVLwST",
        "colab_type": "text"
      },
      "source": [
        "Details:\n",
        "* Use .npy tensors to train and test on\n",
        "* Create VERSION GLOBAL VAR for output weight and model files, update each time\n",
        "* ReduceLRonPlateau and Callback  \n",
        "* ImageDataGenerator added zoom, crop, rotate ...     \n",
        "* Train test with imagenet weights and or train on loaded weights from a different dataset   \n",
        "\n"
      ]
    },
    {
      "cell_type": "markdown",
      "metadata": {
        "id": "5H34H-3dWIGz",
        "colab_type": "text"
      },
      "source": [
        "### Next Steps"
      ]
    },
    {
      "cell_type": "markdown",
      "metadata": {
        "id": "ro6_fomcjOmL",
        "colab_type": "text"
      },
      "source": [
        "\n",
        "*  Convert X_train and y_train to pd.dataframe from np.array, explore  \n",
        "*  Load model weight combo for prediction new   \n",
        "*  GridSearch     \n",
        "*  Use GitHub as source code repo for notebooks       \n",
        "*  Multi-class classification  ?      \n",
        "*  Research medical pre-trained imagenet ... Stanford, 1000 lung  \n",
        "\n",
        "#### General \n",
        "* New tensors with covid images copied again and again\n",
        "* Put in confusion matrix\n",
        "* Review performance stats and charts, accuracy vs val accuracy \n",
        "   LR in background, want low val_loss (.3) and loss (.5) accuracy val (.7+)     \n",
        "* Create process for importing images and creating tensors that all can reference, automate. \n",
        "* Debug API Anatoly, why not working, what issue?  \n",
        "* Images being standardized prior to .npy tensor? \n",
        "* How many channels, 3 or 1? What best? Diff X-Ray diff channel? Diff algos, discuss ... Jie dividing by 255, make sure understand process as quality data in is important.        \n",
        "* Understand tensor .npy creation process, document   \n",
        "* steps_per_epoch = DATASET_SIZE//BATCH_SIZE  how know this, how relate to .npy tensor and learning rate reductions?\n",
        "* Debug Anatoly/Jie the programming of functions for commoditizing the model architecture. Like Rubik guy. Seems we should be able to all have ability to test off of same models quite easily. Think it through.\n",
        "\n",
        "  "
      ]
    },
    {
      "cell_type": "markdown",
      "metadata": {
        "id": "itsorO9vEXT3",
        "colab_type": "text"
      },
      "source": [
        "## Import Modules"
      ]
    },
    {
      "cell_type": "code",
      "metadata": {
        "id": "VSjzc3z1OzY_",
        "colab_type": "code",
        "colab": {}
      },
      "source": [
        "import sys\n",
        "from keras.utils import to_categorical\n",
        "from keras.layers import Conv2D, MaxPooling2D, Flatten, Dense, Dropout\n",
        "from keras import backend as K\n",
        "from keras.models import Sequential, Model\n",
        "from keras.applications.resnet50 import ResNet50, preprocess_input\n",
        "\n",
        "from keras.optimizers import SGD, Adam\n",
        "#from preprocessing.image import ImageDataGenerator\n",
        "from keras.preprocessing import image\n",
        "from keras.preprocessing.image import ImageDataGenerator, load_img, img_to_array\n",
        "\n",
        "# LOAD DATASET\n",
        "from os import listdir\n",
        "import numpy as np\n",
        "from numpy import asarray, save\n",
        "import pandas as pd\n",
        "\n",
        "from sklearn.model_selection import train_test_split\n",
        "\n",
        "# PLOT IMAGES \n",
        "import matplotlib.pyplot as plt\n",
        "from matplotlib.image import imread\n",
        "%matplotlib inline\n",
        "\n",
        "# METRICS AND REPORTING\n",
        "from sklearn.metrics import confusion_matrix, classification_report, mean_squared_error\n"
      ],
      "execution_count": 0,
      "outputs": []
    },
    {
      "cell_type": "markdown",
      "metadata": {
        "id": "UvDXbvWqGW55",
        "colab_type": "text"
      },
      "source": [
        "## Global Variable Designation"
      ]
    },
    {
      "cell_type": "code",
      "metadata": {
        "id": "tUO4cGn2PTr0",
        "colab_type": "code",
        "colab": {}
      },
      "source": [
        "VERSION_IN        = 'V1-2_Adam' # Adam is optimizer \n",
        "VERSION_OUT       = 'V2-2'\n",
        "\n",
        "BASE_PATH         = '/content/drive/My Drive/'\n",
        "DATASET_PATH      = 'images/Preprocessed_Tensors/COVID_IMG_preprocessed_balanced/'\n",
        "OUTPUT_PATH       = 'images/COVID_19_project/pretrained_weights/'\n",
        "FOLDER_PATH_TRAIN = BASE_PATH + DATASET_PATH\n",
        "FOLDER_PATH_TEST  = BASE_PATH + DATASET_PATH\n",
        "\n",
        "WEIGHTS_IN        = BASE_PATH + 'ResNet50_weights_best_' + VERSION_IN  + '.hdf5' \n",
        "#WEIGHTS_IN        = BASE_PATH + OUTPUT_PATH + 'ResNet50_weights_' + VERSION_IN  + '.hdf5' \n",
        "WEIGHTS_OUT       = BASE_PATH + 'ResNet50_weights_' + VERSION_OUT + '.hdf5'\n",
        "WEIGHTS_MODEL_IN  = BASE_PATH + 'ResNet50_model_' + VERSION_IN  + '.h5' \n",
        "WEIGHTS_MODEL_OUT = BASE_PATH + 'ResNet50_model_' + VERSION_OUT + '.h5' # IDEALLY INPUT RESNET AND MODEL/OUTPUT FILE CALLED\n",
        "\n",
        "IMAGE_SIZE        = 224   \n",
        "INPUT_LAYERS      = 3     # RED, GREEN, BLUE = 3; IF 3 REMOVE FROM ImageDataGenerator\n",
        "LAYERS_TRANS      = 3     # GREYSCALE = 1; FOR MEMORY AND RUNTIME EFFICIENCY CONVERT TO GREYSCALE, !!! DO SOME REQUIRE 1 VS 3?\n",
        "NUM_CLASSES       = 2     # NUMBER OF TARGET CLASSES, BINARY - TRUE OR FALSE = 2,CAT OR DOG OR CHICKEN = 3 ...\n",
        "BATCH_SIZE_N      = 16    # MEMORY MANAGEMENT, INCREASE IF HAVE LOT OF MEMORY\n",
        "FREEZE_LAYERS     = 2     # !!! READ UP ON SIGNIFICANCE\n",
        "NUM_EPOCHS        = 50  \n",
        "VERBOSE_EPOCH     = 1     # EPOCH OUTPUT 0 = NO OUTPUT, 1 = OUTPUT"
      ],
      "execution_count": 0,
      "outputs": []
    },
    {
      "cell_type": "markdown",
      "metadata": {
        "id": "8tACe5aLGSGz",
        "colab_type": "text"
      },
      "source": [
        "## Access Tensors\n"
      ]
    },
    {
      "cell_type": "code",
      "metadata": {
        "id": "FN-od3btxMsE",
        "colab_type": "code",
        "outputId": "2e057ea3-51ee-4381-e00c-84a5b743fe65",
        "colab": {
          "base_uri": "https://localhost:8080/",
          "height": 34
        }
      },
      "source": [
        "# MOUNT GOOGLE DRIVE TO ACCESS SHARED IMAGES FOLDER\n",
        "from google.colab import drive\n",
        "drive.mount('/content/drive')"
      ],
      "execution_count": 0,
      "outputs": [
        {
          "output_type": "stream",
          "text": [
            "Drive already mounted at /content/drive; to attempt to forcibly remount, call drive.mount(\"/content/drive\", force_remount=True).\n"
          ],
          "name": "stdout"
        }
      ]
    },
    {
      "cell_type": "code",
      "metadata": {
        "id": "vMED_j0JMg-U",
        "colab_type": "code",
        "outputId": "7dff5482-3b93-4ed5-900c-d5475080a6c4",
        "colab": {
          "base_uri": "https://localhost:8080/",
          "height": 34
        }
      },
      "source": [
        "# ls /content/drive/My Drive/images/NIH chest X ray images/images_001/images/\n",
        "ls /content/drive/My\\ Drive/images/Preprocessed_Tensors/COVID_IMG_preprocessed_balanced/"
      ],
      "execution_count": 0,
      "outputs": [
        {
          "output_type": "stream",
          "text": [
            "X_test.npy  X_train.npy  X_val.npy  y_test.npy  y_train.npy  y_val.npy\n"
          ],
          "name": "stdout"
        }
      ]
    },
    {
      "cell_type": "code",
      "metadata": {
        "id": "rIbiJjqDteAN",
        "colab_type": "code",
        "colab": {}
      },
      "source": [
        "# TENSORS \n",
        "X_train = np.load(FOLDER_PATH_TRAIN + 'X_train.npy')\n",
        "X_test  = np.load(FOLDER_PATH_TEST  + 'X_test.npy')\n",
        "y_train = np.load(FOLDER_PATH_TRAIN + 'y_train.npy')\n",
        "y_test  = np.load(FOLDER_PATH_TEST  + 'y_test.npy')"
      ],
      "execution_count": 0,
      "outputs": []
    },
    {
      "cell_type": "code",
      "metadata": {
        "id": "8OdilRgymexF",
        "colab_type": "code",
        "outputId": "7a9866ba-5f29-4cef-87e7-6077a579801f",
        "colab": {
          "base_uri": "https://localhost:8080/",
          "height": 87
        }
      },
      "source": [
        "print(len(X_train))\n",
        "print(len(y_train))\n",
        "print(len(X_test))\n",
        "print(len(y_test))"
      ],
      "execution_count": 0,
      "outputs": [
        {
          "output_type": "stream",
          "text": [
            "3424\n",
            "3424\n",
            "1472\n",
            "1472\n"
          ],
          "name": "stdout"
        }
      ]
    },
    {
      "cell_type": "code",
      "metadata": {
        "id": "Ls_Gut9r1qtJ",
        "colab_type": "code",
        "outputId": "0c1241bc-8b91-410a-a087-1a3d425473c1",
        "colab": {
          "base_uri": "https://localhost:8080/",
          "height": 34
        }
      },
      "source": [
        "# Anatoly's loop to take array from 1 -> 2 dimensions\n",
        "y_train_new = np.empty((len(y_train), 2))\n",
        "for i in range(len(y_train)):\n",
        "  #print(y_train[i])\n",
        "  entry = [0.0, 0.0]\n",
        "  if (y_train[i] == 0): # !!! 0 = NORMAL, 1 = COVID\n",
        "    entry[1] = 1.0\n",
        "  else:\n",
        "    entry[0] = 1.0\n",
        "  entry_np = np.array(entry)\n",
        "  #print(entry_np.shape)\n",
        "  y_train_new[i] = entry_np\n",
        "print(y_train_new.shape)"
      ],
      "execution_count": 0,
      "outputs": [
        {
          "output_type": "stream",
          "text": [
            "(3424, 2)\n"
          ],
          "name": "stdout"
        }
      ]
    },
    {
      "cell_type": "code",
      "metadata": {
        "id": "n8W2uyL85hbt",
        "colab_type": "code",
        "outputId": "22e958be-716e-4c99-94e7-0c779e5b22d3",
        "colab": {
          "base_uri": "https://localhost:8080/",
          "height": 52
        }
      },
      "source": [
        "# MAKE SURE FIRST ELEMENT MATCHES, SIGNIFICANCE: IF THEN WORKING CORRECTLY\n",
        "print(\"new first element {}\".format(y_train_new[0]))\n",
        "print(\"old first element {}\".format(y_train[0]))"
      ],
      "execution_count": 0,
      "outputs": [
        {
          "output_type": "stream",
          "text": [
            "new first element [1. 0.]\n",
            "old first element 1.0\n"
          ],
          "name": "stdout"
        }
      ]
    },
    {
      "cell_type": "code",
      "metadata": {
        "id": "N2P7nQRa6Gmb",
        "colab_type": "code",
        "outputId": "a755bbbd-076a-435e-895f-c3c214b270bd",
        "colab": {
          "base_uri": "https://localhost:8080/",
          "height": 34
        }
      },
      "source": [
        "# ANATOY - DATA PREPROCESSING FOR TENSOR ELEMENT BALANCE\n",
        "y_test_new = np.empty((len(y_test), 2))\n",
        "for i in range(len(y_test)):\n",
        "  #print(y_train[i])\n",
        "  entry = [0.0, 0.0]\n",
        "  if (y_test[i] == 0): # !!! 0 = NORMAL, 1 = COVID\n",
        "    entry[1] = 1.0\n",
        "  else:\n",
        "    entry[0] = 1.0\n",
        "  entry_np = np.array(entry)\n",
        "  #print(entry_np.shape)\n",
        "  y_test_new[i] = entry_np\n",
        "print(y_test_new.shape)"
      ],
      "execution_count": 0,
      "outputs": [
        {
          "output_type": "stream",
          "text": [
            "(1472, 2)\n"
          ],
          "name": "stdout"
        }
      ]
    },
    {
      "cell_type": "code",
      "metadata": {
        "id": "lNCUHbBIOVF5",
        "colab_type": "code",
        "outputId": "9d7be619-12c6-4e77-b06e-22850eb12ca9",
        "colab": {
          "base_uri": "https://localhost:8080/",
          "height": 52
        }
      },
      "source": [
        "# MAKE SURE FIRST ELEMENT MATCHES, SIGNIFICANCE: IF THEN WORKING CORRECTLY\n",
        "print(\"new first element {}\".format(y_test_new[0]))\n",
        "print(\"old first element {}\".format(y_test[0]))"
      ],
      "execution_count": 0,
      "outputs": [
        {
          "output_type": "stream",
          "text": [
            "new first element [0. 1.]\n",
            "old first element 0.0\n"
          ],
          "name": "stdout"
        }
      ]
    },
    {
      "cell_type": "code",
      "metadata": {
        "id": "rCsvNpm_61Of",
        "colab_type": "code",
        "outputId": "c24c20ad-216f-4f67-e06f-0ffce1c241a3",
        "colab": {
          "base_uri": "https://localhost:8080/",
          "height": 105
        }
      },
      "source": [
        "# 10% COVID CASES ROUGHLY, REST ARE HEALTHY, SHUFFLED\n",
        "print(\"Shape of tensors:\")\n",
        "print(\"X_train:     {}\".format(X_train.shape))\n",
        "print(\"y_train_new: {}\".format(y_train_new.shape))\n",
        "print(\"X_test:      {}\".format(X_test.shape))\n",
        "print(\"y_test_new:  {}\".format(y_test_new.shape))"
      ],
      "execution_count": 0,
      "outputs": [
        {
          "output_type": "stream",
          "text": [
            "Shape of tensors:\n",
            "X_train:     (3424, 224, 224, 3)\n",
            "y_train_new: (3424, 2)\n",
            "X_test:      (1472, 224, 224, 3)\n",
            "y_test_new:  (1472, 2)\n"
          ],
          "name": "stdout"
        }
      ]
    },
    {
      "cell_type": "code",
      "metadata": {
        "id": "SGgEDKJsdbHF",
        "colab_type": "code",
        "colab": {}
      },
      "source": [
        "#ls /content/drive/My\\ Drive/images/Preprocessed_Tensors/\n",
        "#ls /content/drive/My\\ Drive/images/NIH chest X ray images/"
      ],
      "execution_count": 0,
      "outputs": []
    },
    {
      "cell_type": "markdown",
      "metadata": {
        "id": "y-ykYSWXI066",
        "colab_type": "text"
      },
      "source": [
        "## Define Model Architecture"
      ]
    },
    {
      "cell_type": "code",
      "metadata": {
        "id": "a8K44trC4g6s",
        "colab_type": "code",
        "colab": {}
      },
      "source": [
        "def define_model_resnet50():\n",
        "    '''\n",
        "    ResNet50 model using imagenet weight file for transfer learning.\n",
        "    Freeze layers. Trainable freeze layers, others, not\n",
        "    Optimizer is using learning rate, better to use Adam or SGD and .00001 !!!\n",
        "    '''\n",
        "    # !!! GO TO KERAS DOCUMENTATION ONLINE AND LOOK AT PARAM\n",
        "    net = ResNet50(include_top=False, weights='imagenet', input_tensor=None, input_shape=(IMAGE_SIZE, IMAGE_SIZE, INPUT_LAYERS))\n",
        "    x = net.output\n",
        "    x = Flatten()(x)\n",
        "    x = Dropout(0.5)(x)\n",
        "    output_layer = Dense(NUM_CLASSES, activation='softmax', name='softmax')(x)\n",
        "    net_final = Model(inputs=net.input, outputs=output_layer)\n",
        "    for layer in net_final.layers[:FREEZE_LAYERS]:\n",
        "        layer.trainable = False\n",
        "    for layer in net_final.layers[FREEZE_LAYERS:]:\n",
        "        layer.trainable = True\n",
        "    #net_final.compile(optimizer=Adam(lr=1e-5), loss='categorical_crossentropy', metrics=['accuracy'])\n",
        "    net_final.compile(optimizer=keras.optimizers.Adadelta(), \n",
        "                      loss='categorical_crossentropy', metrics=['accuracy'])\n",
        "    # CHANGED TO momentum, TO DECREASE LEARNING AS EPOCHS PROGRESS\n",
        "    #opt = SGD(lr=0.01, momentum=0.9)\n",
        "    #net_final.compile(optimizer=opt, \n",
        "    #                  loss='categorical_crossentropy', metrics=['accuracy'])\n",
        "    #print(net_final.summary())\n",
        "    return net_final"
      ],
      "execution_count": 0,
      "outputs": []
    },
    {
      "cell_type": "markdown",
      "metadata": {
        "id": "0hGip4enxTJC",
        "colab_type": "text"
      },
      "source": [
        "## Define Learning Rate and Callback Checkpoint"
      ]
    },
    {
      "cell_type": "code",
      "metadata": {
        "id": "ruVyW_qReOtF",
        "colab_type": "code",
        "colab": {}
      },
      "source": [
        "import keras\n",
        "from keras.callbacks import ReduceLROnPlateau, ModelCheckpoint\n",
        "\n",
        "# IMPLEMENT LEARNING RATE REDUCTION BASED ON VALIDATION LOSS\n",
        "lr_reduce = ReduceLROnPlateau(\n",
        "    monitor='val_loss', # DECISIONS BASED ON val_loss\n",
        "    factor=0.2, \n",
        "    patience=4, #IF MODEL DOES NOT IMPROVE BY EPSILON IN 4 EPOCHS, THEN REDUCE LR BY FACTOR.  \n",
        "    min_delta=0.0001, \n",
        "    cooldown = 3, # WAIT 3 EPOCHS BEFORE STARTING AGAIN\n",
        "    min_lr=10e-5, #min_lr=0.0000001\n",
        "    verbose=1)\n",
        "\n",
        "# SAVE WEIGHT FILE FROM BEST RUN, HAVE VERBOSE OUTPUT BASED ON VALIDATION ACCURACY\n",
        "checkpoint = keras.callbacks.callbacks.ModelCheckpoint(\n",
        "    WEIGHTS_OUT, \n",
        "    monitor='val_accuracy', \n",
        "    verbose=1, \n",
        "    save_best_only=True, \n",
        "    mode='max')"
      ],
      "execution_count": 0,
      "outputs": []
    },
    {
      "cell_type": "markdown",
      "metadata": {
        "id": "UHrzxeDfG5V9",
        "colab_type": "text"
      },
      "source": [
        "## Plot Diagnostic Learning Curves"
      ]
    },
    {
      "cell_type": "code",
      "metadata": {
        "id": "tYyKsKsdTol7",
        "colab_type": "code",
        "colab": {}
      },
      "source": [
        "def summarize_diagnostics(history):\n",
        "    '''\n",
        "    Plot entropy chart\n",
        "    Plot accuracy chart\n",
        "    '''\n",
        "    \n",
        "    plt.figure(figsize=(8,10))\n",
        "\n",
        "    # PLOT LOSS\n",
        "    plt.subplot(211)\n",
        "    plt.title('Cross Entropy Loss')\n",
        "    plt.plot(history.history['loss'], color='blue', label='train')\n",
        "    plt.plot(history.history['val_loss'], color='orange', label='test')\n",
        "    \n",
        "    # PLOT ACCURACY\n",
        "    plt.subplot(212)\n",
        "    plt.title('Classification Accuracy')\n",
        "    plt.plot(history.history['accuracy'], color='blue', label='train')\n",
        "    plt.plot(history.history['val_accuracy'], color='orange', label='test')\n",
        "    plt.show()\n",
        "    plt.close()"
      ],
      "execution_count": 0,
      "outputs": []
    },
    {
      "cell_type": "markdown",
      "metadata": {
        "id": "vfZ5MxG0G_Hj",
        "colab_type": "text"
      },
      "source": [
        "## Define Test Harness"
      ]
    },
    {
      "cell_type": "code",
      "metadata": {
        "id": "4HwzAVJafLsf",
        "colab_type": "code",
        "colab": {}
      },
      "source": [
        "def run_test_harness():\n",
        "    '''\n",
        "    Test harness calls model definition function \n",
        "    Resizes images\n",
        "    Creates more images with Image Data Generator: rotate, shift, shear, zoom, flip, ...\n",
        "    Fits the data\n",
        "    Gives performance summary\n",
        "    Calls the learning curve graph\n",
        "    '''\n",
        "    \n",
        "    model = define_model_resnet50()\n",
        "    model.load_weights(WEIGHTS_IN)\n",
        "    \n",
        "    # SPECIFIC REFERENCING imagenet IN BACKGROUND?\n",
        "    #train_datagen = ImageDataGenerator(featurewise_center=True)\n",
        "\n",
        "    # CREATE DATA ITERATORS\n",
        "    train_datagen = ImageDataGenerator(rotation_range=15, \n",
        "                                      width_shift_range=0.2,\n",
        "                                      height_shift_range=0.2,\n",
        "                                      shear_range= 0.2,\n",
        "                                      zoom_range=0.2,\n",
        "                                      horizontal_flip = True)\n",
        "\n",
        "    # SPECIFY imagenet MEAN VALUES FOR CENTERING\n",
        "    #train_datagen.mean = [123.68, 116.779, 103.939]\n",
        "\n",
        "    # WORK WITH TENSORS\n",
        "    train_batches = train_datagen.flow(X_train, y_train_new, batch_size = BATCH_SIZE_N)\n",
        "    test_batches = train_datagen.flow(X_test, y_test_new, batch_size = BATCH_SIZE_N)\n",
        "\n",
        "    print(\"train batches {}\".format(len(train_batches)))\n",
        "    print(\"test  batches {}\".format(len(test_batches)))\n",
        "    print(\"\\n\")\n",
        "\n",
        "    # FIT MODEL\n",
        "    history = model.fit_generator(train_batches, \n",
        "                                  steps_per_epoch=len(train_batches),\n",
        "                                  callbacks=[lr_reduce,checkpoint],\n",
        "                                  validation_data=test_batches, \n",
        "                                  validation_steps=len(test_batches), \n",
        "                                  verbose=VERBOSE_EPOCH,\n",
        "                                  epochs=NUM_EPOCHS)\n",
        "\n",
        "    # SAVE TRAINED WEIGHTS\n",
        "    model.save(WEIGHTS_MODEL_OUT)\n",
        "\n",
        "    # EVALUATE MODEL\n",
        "    _, acc = model.evaluate_generator(test_batches, \n",
        "                                      steps=len(test_batches), \n",
        "                                      verbose=0)\n",
        "    \n",
        "    print(\"\\nAccuracy > {:.3f}\".format(acc * 100.0))\n",
        "\n",
        "    # LEARNING CURVES\n",
        "    summarize_diagnostics(history)"
      ],
      "execution_count": 0,
      "outputs": []
    },
    {
      "cell_type": "markdown",
      "metadata": {
        "id": "8UfNlHxpHDG2",
        "colab_type": "text"
      },
      "source": [
        "## Run Test Harness"
      ]
    },
    {
      "cell_type": "code",
      "metadata": {
        "id": "1re5HeQRnhg-",
        "colab_type": "code",
        "outputId": "c0906125-9719-4949-be3e-d6f7a20f9cee",
        "colab": {
          "base_uri": "https://localhost:8080/",
          "height": 1000
        }
      },
      "source": [
        "run_test_harness()"
      ],
      "execution_count": 0,
      "outputs": [
        {
          "output_type": "stream",
          "text": [
            "/usr/local/lib/python3.6/dist-packages/keras_applications/resnet50.py:265: UserWarning: The output shape of `ResNet50(include_top=False)` has been changed since Keras 2.2.0.\n",
            "  warnings.warn('The output shape of `ResNet50(include_top=False)` '\n"
          ],
          "name": "stderr"
        },
        {
          "output_type": "stream",
          "text": [
            "train batches 214\n",
            "test  batches 92\n",
            "\n",
            "\n",
            "Epoch 1/50\n",
            "214/214 [==============================] - 73s 341ms/step - loss: 0.5496 - accuracy: 0.7138 - val_loss: 0.6344 - val_accuracy: 0.5496\n",
            "\n",
            "Epoch 00001: val_accuracy improved from -inf to 0.54959, saving model to /content/drive/My Drive/ResNet50_weights_V2-2.hdf5\n",
            "Epoch 2/50\n",
            "214/214 [==============================] - 57s 266ms/step - loss: 0.3987 - accuracy: 0.8221 - val_loss: 4.1783 - val_accuracy: 0.5503\n",
            "\n",
            "Epoch 00002: val_accuracy improved from 0.54959 to 0.55027, saving model to /content/drive/My Drive/ResNet50_weights_V2-2.hdf5\n",
            "Epoch 3/50\n",
            "214/214 [==============================] - 57s 266ms/step - loss: 0.3518 - accuracy: 0.8478 - val_loss: 1.0894 - val_accuracy: 0.5265\n",
            "\n",
            "Epoch 00003: val_accuracy did not improve from 0.55027\n",
            "Epoch 4/50\n",
            "214/214 [==============================] - 57s 264ms/step - loss: 0.3342 - accuracy: 0.8548 - val_loss: 0.5660 - val_accuracy: 0.7643\n",
            "\n",
            "Epoch 00004: val_accuracy improved from 0.55027 to 0.76427, saving model to /content/drive/My Drive/ResNet50_weights_V2-2.hdf5\n",
            "Epoch 5/50\n",
            "214/214 [==============================] - 57s 265ms/step - loss: 0.3145 - accuracy: 0.8651 - val_loss: 15.3761 - val_accuracy: 0.4986\n",
            "\n",
            "Epoch 00005: val_accuracy did not improve from 0.76427\n",
            "Epoch 6/50\n",
            "214/214 [==============================] - 57s 265ms/step - loss: 0.2896 - accuracy: 0.8788 - val_loss: 1.1641 - val_accuracy: 0.6359\n",
            "\n",
            "Epoch 00006: val_accuracy did not improve from 0.76427\n",
            "Epoch 7/50\n",
            "214/214 [==============================] - 57s 266ms/step - loss: 0.2891 - accuracy: 0.8770 - val_loss: 7.7352 - val_accuracy: 0.4952\n",
            "\n",
            "Epoch 00007: val_accuracy did not improve from 0.76427\n",
            "Epoch 8/50\n",
            "214/214 [==============================] - 57s 265ms/step - loss: 0.2649 - accuracy: 0.8911 - val_loss: 0.3398 - val_accuracy: 0.7690\n",
            "\n",
            "Epoch 00008: val_accuracy improved from 0.76427 to 0.76902, saving model to /content/drive/My Drive/ResNet50_weights_V2-2.hdf5\n",
            "Epoch 9/50\n",
            "214/214 [==============================] - 57s 264ms/step - loss: 0.2728 - accuracy: 0.8858 - val_loss: 1.5821 - val_accuracy: 0.6135\n",
            "\n",
            "Epoch 00009: val_accuracy did not improve from 0.76902\n",
            "Epoch 10/50\n",
            "214/214 [==============================] - 57s 264ms/step - loss: 0.2479 - accuracy: 0.9001 - val_loss: 1.1468 - val_accuracy: 0.6189\n",
            "\n",
            "Epoch 00010: val_accuracy did not improve from 0.76902\n",
            "Epoch 11/50\n",
            "214/214 [==============================] - 56s 263ms/step - loss: 0.2529 - accuracy: 0.8954 - val_loss: 0.1017 - val_accuracy: 0.8804\n",
            "\n",
            "Epoch 00011: val_accuracy improved from 0.76902 to 0.88043, saving model to /content/drive/My Drive/ResNet50_weights_V2-2.hdf5\n",
            "Epoch 12/50\n",
            "214/214 [==============================] - 56s 262ms/step - loss: 0.2356 - accuracy: 0.9086 - val_loss: 0.9926 - val_accuracy: 0.6923\n",
            "\n",
            "Epoch 00012: val_accuracy did not improve from 0.88043\n",
            "Epoch 13/50\n",
            "214/214 [==============================] - 56s 263ms/step - loss: 0.2349 - accuracy: 0.9027 - val_loss: 2.0370 - val_accuracy: 0.6644\n",
            "\n",
            "Epoch 00013: val_accuracy did not improve from 0.88043\n",
            "Epoch 14/50\n",
            "214/214 [==============================] - 56s 261ms/step - loss: 0.2340 - accuracy: 0.9062 - val_loss: 0.7660 - val_accuracy: 0.5876\n",
            "\n",
            "Epoch 00014: val_accuracy did not improve from 0.88043\n",
            "Epoch 15/50\n",
            "214/214 [==============================] - 56s 261ms/step - loss: 0.2067 - accuracy: 0.9209 - val_loss: 0.5033 - val_accuracy: 0.8329\n",
            "\n",
            "Epoch 00015: ReduceLROnPlateau reducing learning rate to 0.2.\n",
            "\n",
            "Epoch 00015: val_accuracy did not improve from 0.88043\n",
            "Epoch 16/50\n",
            "214/214 [==============================] - 56s 262ms/step - loss: 0.1674 - accuracy: 0.9331 - val_loss: 0.1342 - val_accuracy: 0.7826\n",
            "\n",
            "Epoch 00016: val_accuracy did not improve from 0.88043\n",
            "Epoch 17/50\n",
            "214/214 [==============================] - 56s 261ms/step - loss: 0.1533 - accuracy: 0.9430 - val_loss: 2.9673 - val_accuracy: 0.5591\n",
            "\n",
            "Epoch 00017: val_accuracy did not improve from 0.88043\n",
            "Epoch 18/50\n",
            "214/214 [==============================] - 56s 260ms/step - loss: 0.1446 - accuracy: 0.9419 - val_loss: 0.7016 - val_accuracy: 0.8274\n",
            "\n",
            "Epoch 00018: val_accuracy did not improve from 0.88043\n",
            "Epoch 19/50\n",
            "214/214 [==============================] - 56s 260ms/step - loss: 0.1376 - accuracy: 0.9451 - val_loss: 0.2391 - val_accuracy: 0.8016\n",
            "\n",
            "Epoch 00019: val_accuracy did not improve from 0.88043\n",
            "Epoch 20/50\n",
            "214/214 [==============================] - 56s 261ms/step - loss: 0.1267 - accuracy: 0.9527 - val_loss: 0.2842 - val_accuracy: 0.8505\n",
            "\n",
            "Epoch 00020: val_accuracy did not improve from 0.88043\n",
            "Epoch 21/50\n",
            "214/214 [==============================] - 56s 261ms/step - loss: 0.1116 - accuracy: 0.9562 - val_loss: 0.0716 - val_accuracy: 0.8179\n",
            "\n",
            "Epoch 00021: val_accuracy did not improve from 0.88043\n",
            "Epoch 22/50\n",
            "214/214 [==============================] - 56s 260ms/step - loss: 0.1225 - accuracy: 0.9544 - val_loss: 0.6125 - val_accuracy: 0.8438\n",
            "\n",
            "Epoch 00022: val_accuracy did not improve from 0.88043\n",
            "Epoch 23/50\n",
            "214/214 [==============================] - 55s 259ms/step - loss: 0.1079 - accuracy: 0.9614 - val_loss: 0.2577 - val_accuracy: 0.8893\n",
            "\n",
            "Epoch 00023: val_accuracy improved from 0.88043 to 0.88927, saving model to /content/drive/My Drive/ResNet50_weights_V2-2.hdf5\n",
            "Epoch 24/50\n",
            "214/214 [==============================] - 56s 261ms/step - loss: 0.1206 - accuracy: 0.9533 - val_loss: 1.0043 - val_accuracy: 0.7860\n",
            "\n",
            "Epoch 00024: val_accuracy did not improve from 0.88927\n",
            "Epoch 25/50\n",
            "214/214 [==============================] - 56s 260ms/step - loss: 0.1281 - accuracy: 0.9501 - val_loss: 0.7619 - val_accuracy: 0.8716\n",
            "\n",
            "Epoch 00025: ReduceLROnPlateau reducing learning rate to 0.04000000059604645.\n",
            "\n",
            "Epoch 00025: val_accuracy did not improve from 0.88927\n",
            "Epoch 26/50\n",
            "214/214 [==============================] - 55s 259ms/step - loss: 0.1046 - accuracy: 0.9591 - val_loss: 0.2706 - val_accuracy: 0.8662\n",
            "\n",
            "Epoch 00026: val_accuracy did not improve from 0.88927\n",
            "Epoch 27/50\n",
            "214/214 [==============================] - 55s 259ms/step - loss: 0.0978 - accuracy: 0.9638 - val_loss: 0.1144 - val_accuracy: 0.8899\n",
            "\n",
            "Epoch 00027: val_accuracy improved from 0.88927 to 0.88995, saving model to /content/drive/My Drive/ResNet50_weights_V2-2.hdf5\n",
            "Epoch 28/50\n",
            "214/214 [==============================] - 56s 259ms/step - loss: 0.0952 - accuracy: 0.9629 - val_loss: 0.0239 - val_accuracy: 0.8961\n",
            "\n",
            "Epoch 00028: val_accuracy improved from 0.88995 to 0.89606, saving model to /content/drive/My Drive/ResNet50_weights_V2-2.hdf5\n",
            "Epoch 29/50\n",
            "214/214 [==============================] - 56s 260ms/step - loss: 0.1003 - accuracy: 0.9632 - val_loss: 0.8370 - val_accuracy: 0.8825\n",
            "\n",
            "Epoch 00029: val_accuracy did not improve from 0.89606\n",
            "Epoch 30/50\n",
            "214/214 [==============================] - 55s 259ms/step - loss: 0.0974 - accuracy: 0.9632 - val_loss: 0.1336 - val_accuracy: 0.8811\n",
            "\n",
            "Epoch 00030: val_accuracy did not improve from 0.89606\n",
            "Epoch 31/50\n",
            "214/214 [==============================] - 56s 260ms/step - loss: 0.1029 - accuracy: 0.9597 - val_loss: 0.2547 - val_accuracy: 0.9001\n",
            "\n",
            "Epoch 00031: val_accuracy improved from 0.89606 to 0.90014, saving model to /content/drive/My Drive/ResNet50_weights_V2-2.hdf5\n",
            "Epoch 32/50\n",
            "214/214 [==============================] - 55s 259ms/step - loss: 0.1003 - accuracy: 0.9641 - val_loss: 0.4672 - val_accuracy: 0.9049\n",
            "\n",
            "Epoch 00032: ReduceLROnPlateau reducing learning rate to 0.007999999821186066.\n",
            "\n",
            "Epoch 00032: val_accuracy improved from 0.90014 to 0.90489, saving model to /content/drive/My Drive/ResNet50_weights_V2-2.hdf5\n",
            "Epoch 33/50\n",
            "214/214 [==============================] - 56s 261ms/step - loss: 0.1032 - accuracy: 0.9614 - val_loss: 0.3268 - val_accuracy: 0.8899\n",
            "\n",
            "Epoch 00033: val_accuracy did not improve from 0.90489\n",
            "Epoch 34/50\n",
            "214/214 [==============================] - 56s 259ms/step - loss: 0.0964 - accuracy: 0.9658 - val_loss: 1.9627 - val_accuracy: 0.8879\n",
            "\n",
            "Epoch 00034: val_accuracy did not improve from 0.90489\n",
            "Epoch 35/50\n",
            "214/214 [==============================] - 56s 261ms/step - loss: 0.1030 - accuracy: 0.9588 - val_loss: 0.7925 - val_accuracy: 0.8893\n",
            "\n",
            "Epoch 00035: val_accuracy did not improve from 0.90489\n",
            "Epoch 36/50\n",
            "214/214 [==============================] - 56s 261ms/step - loss: 0.0999 - accuracy: 0.9629 - val_loss: 0.0732 - val_accuracy: 0.9042\n",
            "\n",
            "Epoch 00036: val_accuracy did not improve from 0.90489\n",
            "Epoch 37/50\n",
            "214/214 [==============================] - 56s 261ms/step - loss: 0.0958 - accuracy: 0.9623 - val_loss: 0.1306 - val_accuracy: 0.8872\n",
            "\n",
            "Epoch 00037: val_accuracy did not improve from 0.90489\n",
            "Epoch 38/50\n",
            "214/214 [==============================] - 56s 261ms/step - loss: 0.0964 - accuracy: 0.9620 - val_loss: 0.4686 - val_accuracy: 0.8954\n",
            "\n",
            "Epoch 00038: ReduceLROnPlateau reducing learning rate to 0.0015999998897314072.\n",
            "\n",
            "Epoch 00038: val_accuracy did not improve from 0.90489\n",
            "Epoch 39/50\n",
            "214/214 [==============================] - 56s 262ms/step - loss: 0.0886 - accuracy: 0.9682 - val_loss: 0.1474 - val_accuracy: 0.8947\n",
            "\n",
            "Epoch 00039: val_accuracy did not improve from 0.90489\n",
            "Epoch 40/50\n",
            "214/214 [==============================] - 56s 261ms/step - loss: 0.0908 - accuracy: 0.9670 - val_loss: 0.1398 - val_accuracy: 0.8974\n",
            "\n",
            "Epoch 00040: val_accuracy did not improve from 0.90489\n",
            "Epoch 41/50\n",
            "214/214 [==============================] - 56s 261ms/step - loss: 0.0847 - accuracy: 0.9682 - val_loss: 0.4626 - val_accuracy: 0.8988\n",
            "\n",
            "Epoch 00041: val_accuracy did not improve from 0.90489\n",
            "Epoch 42/50\n",
            "214/214 [==============================] - 56s 261ms/step - loss: 0.0924 - accuracy: 0.9644 - val_loss: 0.2558 - val_accuracy: 0.8933\n",
            "\n",
            "Epoch 00042: val_accuracy did not improve from 0.90489\n",
            "Epoch 43/50\n",
            "214/214 [==============================] - 56s 260ms/step - loss: 0.0835 - accuracy: 0.9682 - val_loss: 0.0618 - val_accuracy: 0.8893\n",
            "\n",
            "Epoch 00043: val_accuracy did not improve from 0.90489\n",
            "Epoch 44/50\n",
            "214/214 [==============================] - 56s 260ms/step - loss: 0.0964 - accuracy: 0.9623 - val_loss: 0.5699 - val_accuracy: 0.8947\n",
            "\n",
            "Epoch 00044: ReduceLROnPlateau reducing learning rate to 0.0003199999686330557.\n",
            "\n",
            "Epoch 00044: val_accuracy did not improve from 0.90489\n",
            "Epoch 45/50\n",
            "214/214 [==============================] - 56s 260ms/step - loss: 0.1185 - accuracy: 0.9562 - val_loss: 0.2279 - val_accuracy: 0.8988\n",
            "\n",
            "Epoch 00045: val_accuracy did not improve from 0.90489\n",
            "Epoch 46/50\n",
            "214/214 [==============================] - 56s 260ms/step - loss: 0.0989 - accuracy: 0.9632 - val_loss: 0.0962 - val_accuracy: 0.8995\n",
            "\n",
            "Epoch 00046: val_accuracy did not improve from 0.90489\n",
            "Epoch 47/50\n",
            "214/214 [==============================] - 56s 261ms/step - loss: 0.0980 - accuracy: 0.9647 - val_loss: 0.0624 - val_accuracy: 0.9069\n",
            "\n",
            "Epoch 00047: val_accuracy improved from 0.90489 to 0.90693, saving model to /content/drive/My Drive/ResNet50_weights_V2-2.hdf5\n",
            "Epoch 48/50\n",
            "214/214 [==============================] - 56s 262ms/step - loss: 0.1032 - accuracy: 0.9632 - val_loss: 0.7695 - val_accuracy: 0.8933\n",
            "\n",
            "Epoch 00048: val_accuracy did not improve from 0.90693\n",
            "Epoch 49/50\n",
            "214/214 [==============================] - 56s 261ms/step - loss: 0.0996 - accuracy: 0.9612 - val_loss: 0.3024 - val_accuracy: 0.8947\n",
            "\n",
            "Epoch 00049: val_accuracy did not improve from 0.90693\n",
            "Epoch 50/50\n",
            "214/214 [==============================] - 56s 261ms/step - loss: 0.0721 - accuracy: 0.9708 - val_loss: 0.0934 - val_accuracy: 0.8899\n",
            "\n",
            "Epoch 00050: ReduceLROnPlateau reducing learning rate to 0.0001.\n",
            "\n",
            "Epoch 00050: val_accuracy did not improve from 0.90693\n",
            "\n",
            "Accuracy > 88.995\n"
          ],
          "name": "stdout"
        },
        {
          "output_type": "display_data",
          "data": {
            "image/png": "[encoded data removed]",
            "text/plain": [
              "<Figure size 576x720 with 2 Axes>"
            ]
          },
          "metadata": {
            "tags": [],
            "needs_background": "light"
          }
        }
      ]
    },
    {
      "cell_type": "code",
      "metadata": {
        "id": "B29N5P2_l-f8",
        "colab_type": "code",
        "colab": {}
      },
      "source": [
        ""
      ],
      "execution_count": 0,
      "outputs": []
    }
  ]
}