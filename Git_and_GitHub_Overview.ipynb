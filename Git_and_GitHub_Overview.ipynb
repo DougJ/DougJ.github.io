{
  "nbformat": 4,
  "nbformat_minor": 0,
  "metadata": {
    "colab": {
      "name": "Git_and_GitHub_Overview.ipynb",
      "provenance": [],
      "authorship_tag": "ABX9TyMt8l/vmWjfzY+3tfu8bMUw",
      "include_colab_link": true
    },
    "kernelspec": {
      "name": "python3",
      "display_name": "Python 3"
    }
  },
  "cells": [
    {
      "cell_type": "markdown",
      "metadata": {
        "id": "view-in-github",
        "colab_type": "text"
      },
      "source": [
        "<a href=\"https://colab.research.google.com/github/DougJ/DougJ.github.io/blob/master/Git_and_GitHub_Overview.ipynb\" target=\"_parent\"><img src=\"https://colab.research.google.com/assets/colab-badge.svg\" alt=\"Open In Colab\"/></a>"
      ]
    },
    {
      "cell_type": "markdown",
      "metadata": {
        "id": "KAP2aqOyL5pp",
        "colab_type": "text"
      },
      "source": [
        "https://www.youtube.com/playlist?list=PLRqwX-V7Uu6ZF9C0YMKuns9sLDzK6zoiV\n",
        "\n",
        "## Git and Github\n",
        "Git\n",
        "* Version Control software\n",
        "* Run on laptop or wherever\n",
        "\n",
        "GitHub\n",
        "* Web service\n",
        "* Repository is another name as a place for files\n",
        "* Make changes with commits"
      ]
    },
    {
      "cell_type": "markdown",
      "metadata": {
        "id": "0iJQuUGtMXag",
        "colab_type": "text"
      },
      "source": [
        "Viewer if GitHub isn't loading"
      ]
    },
    {
      "cell_type": "code",
      "metadata": {
        "id": "Nnq13V1xL2zd",
        "colab_type": "code",
        "colab": {}
      },
      "source": [
        "windows go to run and type cmd\n",
        "\n",
        "use:\n",
        "cd \n",
        "dir or ls\n",
        "\n",
        "git commands, use in correct directory or reference dir as needed:\n",
        "git clone <url copied> # pulls in via url\n",
        "get status\n",
        "get add <filename>\n",
        "get status\n",
        "get commit -m \"brief not on change\" # -m means message\n",
        "at this point committed but still on machine, not synced up to cloud\n",
        "git push # sends local to github.com\n",
        "git pull # from github.com to local\n",
        "\n",
        "\n",
        "git add -A\n",
        "git commit -M \"changed this to that\"\n",
        "git push\n",
        "\n",
        "git pull\n",
        "\n",
        "if get a conflict ...  head is what you on, manually adjust \n",
        "\n",
        "get add -A\n",
        "git commit  # will get to multi line message get out with esc:wq\n",
        "\n",
        "Examples:\n",
        "git clone <url copied> # pulls in via url\n",
        "C:\\Users\\DJ\\Documents\\AnacondaPython\\Thinkful>git clone https://github.com/covidscantest/covidscan-datascience.git\n",
        "Cloning into 'covidscan-datascience'...\n",
        "remote: Enumerating objects: 9, done.\n",
        "remote: Counting objects: 100% (9/9), done.\n",
        "remote: Compressing objects: 100% (7/7), done.\n",
        "remote: Total 330 (delta 3), reused 5 (delta 2), pack-reused 321\n",
        "Receiving objects: 100% (330/330), 206.21 MiB | 26.08 MiB/s, done.\n",
        "Resolving deltas: 100% (6/6), done.\n",
        "Updating files: 100% (303/303), done."
      ],
      "execution_count": 0,
      "outputs": []
    }
  ]
}